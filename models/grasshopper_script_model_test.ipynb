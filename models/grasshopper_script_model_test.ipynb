{
 "cells": [
  {
   "cell_type": "code",
   "execution_count": 2,
   "metadata": {},
   "outputs": [
    {
     "name": "stdout",
     "output_type": "stream",
     "text": [
      "{'ChainOfThought': 'Use the sphere component with a number slider as input to set the radius', 'Advice': 'Adjust the radius of the sphere using a number slider for desired size', 'Additions': [{'Name': 'Sphere', 'Id': 1, 'Value': None}, {'Name': 'Number Slider', 'Id': 2, 'Value': '5..50..100'}], 'Connections': [{'From': {'Id': 2, 'ParameterName': 'Number'}, 'To': {'Id': 1, 'ParameterName': 'Radius'}}]}\n"
     ]
    }
   ],
   "source": [
    "from pydantic import ValidationError\n",
    "\n",
    "from models import GrasshopperScriptModel\n",
    "\n",
    "# Example usage:\n",
    "example_json = {\n",
    "    \"ChainOfThought\": \"Use the sphere component with a number slider as input to set the radius\",\n",
    "    \"Advice\": \"Adjust the radius of the sphere using a number slider for desired size\",\n",
    "    \"Additions\": [\n",
    "        {\n",
    "            \"Name\": \"Sphere\",\n",
    "            \"Id\": 1\n",
    "        },\n",
    "        {\n",
    "            \"Name\": \"Number Slider\",\n",
    "            \"Id\": 2,\n",
    "            \"Value\": \"5..50..100\"\n",
    "        }\n",
    "    ],\n",
    "    \"Connections\": [\n",
    "        {\n",
    "            \"To\": {\n",
    "                \"Id\": 1,\n",
    "                \"ParameterName\": \"Radius\"\n",
    "            },\n",
    "            \"From\": {\n",
    "                \"Id\": 2,\n",
    "                \"ParameterName\": \"Number\"\n",
    "            }\n",
    "        }\n",
    "    ]\n",
    "}\n",
    "\n",
    "try:\n",
    "    config = GrasshopperScriptModel(**example_json)\n",
    "    print(config.model_dump())\n",
    "except ValidationError as e:\n",
    "    print(e)"
   ]
  }
 ],
 "metadata": {
  "kernelspec": {
   "display_name": ".venv",
   "language": "python",
   "name": "python3"
  },
  "language_info": {
   "codemirror_mode": {
    "name": "ipython",
    "version": 3
   },
   "file_extension": ".py",
   "mimetype": "text/x-python",
   "name": "python",
   "nbconvert_exporter": "python",
   "pygments_lexer": "ipython3",
   "version": "3.12.3"
  }
 },
 "nbformat": 4,
 "nbformat_minor": 2
}
