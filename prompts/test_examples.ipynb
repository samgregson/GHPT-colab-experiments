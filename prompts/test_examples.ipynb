{
 "cells": [
  {
   "cell_type": "code",
   "execution_count": null,
   "metadata": {},
   "outputs": [],
   "source": [
    "from prompts.examples import *\n",
    "from models.models import GrasshopperScriptModel\n",
    "import json\n",
    "\n",
    "GrasshopperScriptModel.model_validate(json.loads(example_1))\n",
    "GrasshopperScriptModel.model_validate(json.loads(example_2))\n",
    "GrasshopperScriptModel.model_validate(json.loads(example_3))"
   ]
  }
 ],
 "metadata": {
  "kernelspec": {
   "display_name": ".venv",
   "language": "python",
   "name": "python3"
  },
  "language_info": {
   "codemirror_mode": {
    "name": "ipython",
    "version": 3
   },
   "file_extension": ".py",
   "mimetype": "text/x-python",
   "name": "python",
   "nbconvert_exporter": "python",
   "pygments_lexer": "ipython3",
   "version": "3.12.3"
  }
 },
 "nbformat": 4,
 "nbformat_minor": 2
}
