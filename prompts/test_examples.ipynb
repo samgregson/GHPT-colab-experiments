{
 "cells": [
  {
   "cell_type": "code",
   "execution_count": null,
   "metadata": {},
   "outputs": [],
   "source": [
    "from prompts.examples import *\n",
    "from models.models import GrasshopperScriptModel, Example\n",
    "import json\n",
    "\n",
    "example_1_model = Example.model_validate(json.loads(example_1))\n",
    "example_2_model = Example.model_validate(json.loads(example_2))\n",
    "example_3_model = Example.model_validate(json.loads(example_3))"
   ]
  },
  {
   "cell_type": "code",
   "execution_count": null,
   "metadata": {},
   "outputs": [],
   "source": [
    "example_1_model.Description"
   ]
  },
  {
   "cell_type": "code",
   "execution_count": null,
   "metadata": {},
   "outputs": [],
   "source": [
    "script_model = example_1_model.GrasshopperScriptModel\n",
    "script_model"
   ]
  },
  {
   "cell_type": "code",
   "execution_count": null,
   "metadata": {},
   "outputs": [],
   "source": [
    "example_1_model.GrasshopperScriptModel.model_dump_json()"
   ]
  },
  {
   "cell_type": "code",
   "execution_count": null,
   "metadata": {},
   "outputs": [],
   "source": [
    "from models.models import Strategy\n",
    "\n",
    "Strategy(ChainOfThought=script_model.ChainOfThought, Components=[c.Name for c in script_model.Components]).model_dump_json()"
   ]
  }
 ],
 "metadata": {
  "kernelspec": {
   "display_name": ".venv",
   "language": "python",
   "name": "python3"
  },
  "language_info": {
   "codemirror_mode": {
    "name": "ipython",
    "version": 3
   },
   "file_extension": ".py",
   "mimetype": "text/x-python",
   "name": "python",
   "nbconvert_exporter": "python",
   "pygments_lexer": "ipython3",
   "version": "3.12.3"
  }
 },
 "nbformat": 4,
 "nbformat_minor": 2
}
