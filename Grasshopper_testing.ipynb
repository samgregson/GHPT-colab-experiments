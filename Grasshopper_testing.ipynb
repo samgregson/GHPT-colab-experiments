{
  "nbformat": 4,
  "nbformat_minor": 0,
  "metadata": {
    "colab": {
      "provenance": [],
      "collapsed_sections": [
        "KS2KaXUa6ULz"
      ],
      "authorship_tag": "ABX9TyMfW6HNeJ1iT+VDWPPQb17l",
      "include_colab_link": true
    },
    "kernelspec": {
      "name": "python3",
      "display_name": "Python 3"
    },
    "language_info": {
      "name": "python"
    }
  },
  "cells": [
    {
      "cell_type": "markdown",
      "metadata": {
        "id": "view-in-github",
        "colab_type": "text"
      },
      "source": [
        "<a href=\"https://colab.research.google.com/github/samgregson/GHPT-colab-experiments/blob/main/Grasshopper_testing.ipynb\" target=\"_parent\"><img src=\"https://colab.research.google.com/assets/colab-badge.svg\" alt=\"Open In Colab\"/></a>"
      ]
    },
    {
      "cell_type": "markdown",
      "source": [
        "## Install\n",
        "install openai and setup API key\n",
        "API key must be saved in Colab sectrets as OPENAI_API_KEY"
      ],
      "metadata": {
        "id": "KS2KaXUa6ULz"
      }
    },
    {
      "cell_type": "code",
      "execution_count": null,
      "metadata": {
        "id": "jy5pEkKl0OyR"
      },
      "outputs": [],
      "source": [
        "!pip install openai"
      ]
    },
    {
      "cell_type": "code",
      "source": [
        "from openai import OpenAI"
      ],
      "metadata": {
        "id": "VB0Dx-k73Vt-"
      },
      "execution_count": null,
      "outputs": []
    },
    {
      "cell_type": "code",
      "source": [
        "from google.colab import userdata\n",
        "OPENAI_API_KEY=userdata.get(\"OPENAI_API_KEY\")\n",
        "# OPENAI_API_KEY"
      ],
      "metadata": {
        "id": "LwtoXcFh6Oix"
      },
      "execution_count": null,
      "outputs": []
    },
    {
      "cell_type": "markdown",
      "source": [
        "# OpenAI"
      ],
      "metadata": {
        "id": "lCORn5u76b3n"
      }
    },
    {
      "cell_type": "code",
      "source": [
        "client = OpenAI(api_key=OPENAI_API_KEY)\n",
        "model=\"gpt-3.5-turbo-1106\"\n",
        "temperature=0"
      ],
      "metadata": {
        "id": "_KuOYMzj61v3"
      },
      "execution_count": null,
      "outputs": []
    },
    {
      "cell_type": "code",
      "source": [
        "# create the openai api call function\n",
        "def call_openai(prompt: str, system_prompt: str = \"\", model: str = \"gpt-3.5-turbo-1106\", temperature: float = 0):\n",
        "    completion = client.chat.completions.create(\n",
        "        model=model,\n",
        "        temperature=temperature,\n",
        "        messages=[\n",
        "            {\"role\": \"system\", \"content\": system_prompt},\n",
        "            {\"role\": \"user\", \"content\": prompt}\n",
        "        ],\n",
        "    )\n",
        "\n",
        "    return completion"
      ],
      "metadata": {
        "id": "EiYlQ5mIzBf3"
      },
      "execution_count": null,
      "outputs": []
    },
    {
      "cell_type": "code",
      "source": [
        "model: str = \"gpt-3.5-turbo-1106\"\n",
        "# model: str = \"gpt-3.5-turbo-instruct\"\n",
        "temperature: float = 0\n",
        "\n",
        "prompt=\"say this is a test\"\n",
        "system_prompt=\"\"\n",
        "\n",
        "completion = call_openai(prompt=prompt, system_prompt=system_prompt, model=model, temperature=temperature)\n",
        "result = completion.choices[0].message.content\n",
        "print(result)"
      ],
      "metadata": {
        "colab": {
          "base_uri": "https://localhost:8080/"
        },
        "id": "B8HXy6lMA4dq",
        "outputId": "7ce53fd2-ea76-48c8-f018-597f36604dc0"
      },
      "execution_count": null,
      "outputs": [
        {
          "output_type": "stream",
          "name": "stdout",
          "text": [
            "This is a test.\n"
          ]
        }
      ]
    },
    {
      "cell_type": "markdown",
      "source": [
        "# GHPT"
      ],
      "metadata": {
        "id": "47XPmW1mPiTw"
      }
    },
    {
      "cell_type": "markdown",
      "source": [
        "## prompt template"
      ],
      "metadata": {
        "id": "Cb2mp36c73Yi"
      }
    },
    {
      "cell_type": "code",
      "source": [
        "system_prompt = \"\"\"\n",
        "You are a Grasshopper Expert and are going to help create Grasshopper Definitions.\n",
        "Keep the answers short and concise.\n",
        "Make sure you create and connect a component for every non-optional input\n",
        "If you're not sure about the answer, but think there's additional information that could help you, please ask for that information.\n",
        "\n",
        "Always use the given format, avoid any devitation.\n",
        "\"\"\""
      ],
      "metadata": {
        "id": "1cX7itePzi0h"
      },
      "execution_count": null,
      "outputs": []
    },
    {
      "cell_type": "code",
      "source": [
        "prompt_template = r\"\"\"\n",
        "// Question : How do I add two numbers inside of Grasshopper?\n",
        "// Reasoning: To add two numbers we need to Add. There is an Addition component that performs this function. We need to create two numbers the user can edit, we can use the Number Slider for both numbers. And then we can Connections all of the components together\n",
        "// JSON:\n",
        "{\n",
        "\t\"Advice\": \"Make sure to set the number sliders to the correct value\",\n",
        "\t\"Additions\": [\n",
        "\t\t{\n",
        "\t\t\t\"Name\": \"Number Slider\",\n",
        "\t\t\t\"Id\": 1, // This number must be unique\n",
        "\t\t\t\"value\": \"0..25..100\" // This is optional\n",
        "\t\t},\n",
        "\t\t{\n",
        "\t\t\t\"Name\": \"Number Slider\",\n",
        "\t\t\t\"Id\": 2,\n",
        "\t\t\t\"value\": \"-50..25..100\" // This is optional\n",
        "\t\t},\n",
        "\t\t{\n",
        "\t\t\t\"Name\": \"Addition\",\n",
        "\t\t\t\"Id\": 3\n",
        "\t\t}\n",
        "\t],\n",
        "\t\"Connections\": [\n",
        "\t\t{\n",
        "\t\t\t\"To\": { // Addition\n",
        "\t\t\t\t\"Id\": 3,\n",
        "\t\t\t\t\"ParameterName\": \"A\"\n",
        "\t\t\t},\n",
        "\t\t\t\"From\": { // Number Slider,\n",
        "\t\t\t\t\"Id\": 1,\n",
        "\t\t\t\t\"ParameterName\": \"number\"\n",
        "\t\t\t}\n",
        "\t\t},\n",
        "\t\t{\n",
        "\t\t\t\"To\": { // Addition\n",
        "\t\t\t\t\"Id\": 3,\n",
        "\t\t\t\t\"ParameterName\": \"B\"\n",
        "\t\t\t},\n",
        "\t\t\t\"From\": { // Number Slider,\n",
        "\t\t\t\t\"Id\": 2,\n",
        "\t\t\t\t\"ParameterName\": \"number\"\n",
        "\t\t\t}\n",
        "\t\t}\n",
        "\t]\n",
        "}\n",
        "\n",
        "// Question: How do I create a cup shape in grasshopper\n",
        "// Reasoning: To create a cup shape in Grasshopper, we\"ll first create a circle using a \"Circle CNR\" component, which will act as the base of the cup. Then, we will use a \"Move\" component to move the base circle vertically to create the upper rim of the cup. To create the body of the cup, we\"ll loft these two circles using a \"Loft\" component.\n",
        "// JSON:\n",
        "{\n",
        "\t\"Advice\": \"Remember, to properly define the cup\\\"s dimensions using the number slider\",\n",
        "\t\"Additions\": [\n",
        "\t\t{\n",
        "\t\t\t\"Name\": \"Circle CNR\",\n",
        "\t\t\t\"Id\": 1\n",
        "\t\t},\n",
        "\t\t{\n",
        "\t\t\t\"Name\": \"Move\",\n",
        "\t\t\t\"Id\": 2\n",
        "\t\t},\n",
        "\t\t{\n",
        "\t\t\t\"Name\": \"Loft\",\n",
        "\t\t\t\"Id\": 3\n",
        "\t\t}\n",
        "\t],\n",
        "\t\"Connections\": [\n",
        "\t\t{\n",
        "\t\t\t\"To\": {\n",
        "\t\t\t\t\"Id\": 2,\n",
        "\t\t\t\t\"ParameterName\": \"Geometry\"\n",
        "\t\t\t},\n",
        "\t\t\t\"From\": {\n",
        "\t\t\t\t\"Id\": 1,\n",
        "\t\t\t\t\"ParameterName\": \"Circle\"\n",
        "\t\t\t}\n",
        "\t\t},\n",
        "\t\t{\n",
        "\t\t\t\"To\": {\n",
        "\t\t\t\t\"Id\": 3,\n",
        "\t\t\t\t\"ParameterName\": \"Curves\"\n",
        "\t\t\t},\n",
        "\t\t\t\"From\": {\n",
        "\t\t\t\t\"Id\": 1,\n",
        "\t\t\t\t\"ParameterName\": \"Circle\"\n",
        "\t\t\t}\n",
        "\t\t},\n",
        "\t\t{\n",
        "\t\t\t\"To\": {\n",
        "\t\t\t\t\"Id\": 3,\n",
        "\t\t\t\t\"ParameterName\": \"Curves\"\n",
        "\t\t\t},\n",
        "\t\t\t\"From\": {\n",
        "\t\t\t\t\"Id\": 2,\n",
        "\t\t\t\t\"ParameterName\": \"Geometry\"\n",
        "\t\t\t}\n",
        "\t\t}\n",
        "\t]\n",
        "}\n",
        "```\n",
        "\n",
        "// Question: How do I create a twisty skyscraper?\n",
        "// Reasoning: We can create the \"twist\" using the twist component, so lets extrude a rectangle and twist it!\n",
        "// JSON:\n",
        "{\n",
        "\t\"Advice\": \"Make sure to use reasonable inputs or the skyscraper will look weird\",\n",
        "\t\"Additions\": [\n",
        "\t\t{\n",
        "\t\t\t\"Name\": \"Rectangle\",\n",
        "\t\t\t\"Id\": 1\n",
        "\t\t},\n",
        "\t\t{\n",
        "\t\t\t\"Name\": \"Number Slider\",\n",
        "\t\t\t\"Id\": 2,\n",
        "\t\t\t\"Value\": \"0..50..100\"\n",
        "\t\t},\n",
        "\t\t{\n",
        "\t\t\t\"Name\": \"Unit Z\",\n",
        "\t\t\t\"Id\": 3\n",
        "\t\t},\n",
        "\t\t{\n",
        "\t\t\t\"Name\": \"Extrusion\",\n",
        "\t\t\t\"Id\": 4\n",
        "\t\t},\n",
        "\t\t{\n",
        "\t\t\t\"Name\": \"Number Slider\",\n",
        "\t\t\t\"Id\": 5,\n",
        "\t\t\t\"Value\": \"0..90..360\"\n",
        "\t\t},\n",
        "\t\t{\n",
        "\t\t\t\"Name\": \"Line\",\n",
        "\t\t\t\"Id\": 6\n",
        "\t\t},\n",
        "\t\t{\n",
        "\t\t\t\"Name\": \"Point\"\n",
        "\t\t\t\"Id\": 7,\n",
        "\t\t\t\"value\": \"{0,0,0}\"\n",
        "\t\t},\n",
        "\t\t{\n",
        "\t\t\t\"Name\": \"Point\"\n",
        "\t\t\t\"Id\": 8,\n",
        "\t\t\t\"value\": \"{0,0,250}\"\n",
        "\t\t},\n",
        "\t\t{\n",
        "\t\t\t\"Name\": \"Twist\",\n",
        "\t\t\t\"Id\": 9\n",
        "\t\t},\n",
        "\t\t{\n",
        "\t\t\t\"Name\": \"Solid Union\",\n",
        "\t\t\t\"Id\": 10\n",
        "\t\t},\n",
        "\t\t{\n",
        "\t\t\t\"Name\": \"Brep Join\",\n",
        "\t\t\t\"Id\": 11\n",
        "\t\t}\n",
        "\t],\n",
        "\t\"Connections\": [\n",
        "\t\t{\n",
        "\t\t\t\"To\": {\n",
        "\t\t\t\t\"Id\": 4,\n",
        "\t\t\t\t\"ParameterName\": \"Base\"\n",
        "\t\t\t},\n",
        "\t\t\t\"From\": {\n",
        "\t\t\t\t\"Id\": 1,\n",
        "\t\t\t\t\"ParameterName\": \"Rectangle\"\n",
        "\t\t\t}\n",
        "\t\t},\n",
        "\t\t{\n",
        "\t\t\t\"To\": {\n",
        "\t\t\t\t\"Id\": 3,\n",
        "\t\t\t\t\"ParameterName\": \"Factor\"\n",
        "\t\t\t},\n",
        "\t\t\t\"From\": {\n",
        "\t\t\t\t\"Id\": 2,\n",
        "\t\t\t\t\"ParameterName\": \"Number\"\n",
        "\t\t\t}\n",
        "\t\t},\n",
        "\t\t{\n",
        "\t\t\t\"To\": {\n",
        "\t\t\t\t\"Id\": 9,\n",
        "\t\t\t\t\"ParameterName\": \"Angle\"\n",
        "\t\t\t},\n",
        "\t\t\t\"From\": {\n",
        "\t\t\t\t\"Id\": 5,\n",
        "\t\t\t\t\"ParameterName\": \"Number\"\n",
        "\t\t\t}\n",
        "\t\t},\n",
        "\t\t{\n",
        "\t\t\t\"To\": {\n",
        "\t\t\t\t\"Id\": 4,\n",
        "\t\t\t\t\"ParameterName\": \"Direction\"\n",
        "\t\t\t},\n",
        "\t\t\t\"From\": {\n",
        "\t\t\t\t\"Id\": 3,\n",
        "\t\t\t\t\"ParameterName\": \"Unit vector\"\n",
        "\t\t\t}\n",
        "\t\t},\n",
        "\t\t{\n",
        "\t\t\t\"To\": {\n",
        "\t\t\t\t\"Id\": 9,\n",
        "\t\t\t\t\"ParameterName\": \"Geometry\"\n",
        "\t\t\t},\n",
        "\t\t\t\"From\": {\n",
        "\t\t\t\t\"Id\": 4,\n",
        "\t\t\t\t\"ParameterName\": \"Extrusion\"\n",
        "\t\t\t}\n",
        "\t\t},\n",
        "\t\t{\n",
        "\t\t\t\"To\": {\n",
        "\t\t\t\t\"Id\": 6,\n",
        "\t\t\t\t\"ParameterName\": \"Start Point\"\n",
        "\t\t\t},\n",
        "\t\t\t\"From\": {\n",
        "\t\t\t\t\"Id\": 7,\n",
        "\t\t\t\t\"ParameterName\": \"Point\"\n",
        "\t\t\t}\n",
        "\t\t},\n",
        "\t\t{\n",
        "\t\t\t\"To\": {\n",
        "\t\t\t\t\"Id\": 6,\n",
        "\t\t\t\t\"ParameterName\": \"End Point\"\n",
        "\t\t\t},\n",
        "\t\t\t\"From\": {\n",
        "\t\t\t\t\"Id\": 8,\n",
        "\t\t\t\t\"ParameterName\": \"Point\"\n",
        "\t\t\t}\n",
        "\t\t},\n",
        "\t\t{\n",
        "\t\t\t\"To\": {\n",
        "\t\t\t\t\"Id\": 10,\n",
        "\t\t\t\t\"ParameterName\": \"Breps\"\n",
        "\t\t\t},\n",
        "\t\t\t\"From\": {\n",
        "\t\t\t\t\"Id\": 9,\n",
        "\t\t\t\t\"ParameterName\": \"Geometry\"\n",
        "\t\t\t}\n",
        "\t\t},\n",
        "\t\t{\n",
        "\t\t\t\"To\": {\n",
        "\t\t\t\t\"Id\": 11,\n",
        "\t\t\t\t\"ParameterName\": \"Breps\"\n",
        "\t\t\t},\n",
        "\t\t\t\"From\": {\n",
        "\t\t\t\t\"Id\": 10,\n",
        "\t\t\t\t\"ParameterName\": \"Result\"\n",
        "\t\t\t}\n",
        "\t\t},\n",
        "\t\t{\n",
        "      \"To\": {\n",
        "          \"Id\": 9,\n",
        "          \"ParameterName\": \"Axis\"\n",
        "        },\n",
        "      \"From\": {\n",
        "          \"Id\": 6,\n",
        "          \"ParameterName\": \"Line\"\n",
        "      }\n",
        "\t\t}\n",
        "\t]\n",
        "}\n",
        "\n",
        "// Question: {QUESTION}\n",
        "// Reasoning:\n",
        "\"\"\""
      ],
      "metadata": {
        "id": "gKpcZiiP5rMX"
      },
      "execution_count": null,
      "outputs": []
    },
    {
      "cell_type": "code",
      "source": [
        "prompt_template = prompt_template.replace(\"{\",\"{{\").replace(\"}\",\"}}\").replace(\"{{QUESTION}}\",\"{QUESTION}\")"
      ],
      "metadata": {
        "id": "QGjrfD7PA9PJ"
      },
      "execution_count": null,
      "outputs": []
    },
    {
      "cell_type": "code",
      "source": [
        "prompt_template_error = \"\"\"The above json returned the error: {ERROR}\n",
        "re-evaluating the initial task and correcting for the json error the correct json should be\n",
        "\n",
        "// JSON:\n",
        "\"\"\""
      ],
      "metadata": {
        "id": "n2Vj_g4kC6da"
      },
      "execution_count": null,
      "outputs": []
    },
    {
      "cell_type": "code",
      "source": [
        "prompt_template.format(QUESTION=\"create a sphere\")"
      ],
      "metadata": {
        "colab": {
          "base_uri": "https://localhost:8080/"
        },
        "id": "BlPOMmXUyQh7",
        "outputId": "7af004d0-f1a4-4d83-86dc-482eb2f24fe5"
      },
      "execution_count": null,
      "outputs": [
        {
          "output_type": "execute_result",
          "data": {
            "text/plain": [
              "'\\n// Question : How do I add two numbers inside of Grasshopper?\\n// Reasoning: To add two numbers we need to Add. There is an Addition component that performs this function. We need to create two numbers the user can edit, we can use the Number Slider for both numbers. And then we can Connections all of the components together\\n// JSON:\\n{\\n\\t\"Advice\": \"Make sure to set the number sliders to the correct value\",\\n\\t\"Additions\": [\\n\\t\\t{\\n\\t\\t\\t\"Name\": \"Number Slider\",\\n\\t\\t\\t\"Id\": 1, // This number must be unique\\n\\t\\t\\t\"value\": \"0..25..100\" // This is optional\\n\\t\\t},\\n\\t\\t{\\n\\t\\t\\t\"Name\": \"Number Slider\",\\n\\t\\t\\t\"Id\": 2,\\n\\t\\t\\t\"value\": \"-50..25..100\" // This is optional\\n\\t\\t},\\n\\t\\t{\\n\\t\\t\\t\"Name\": \"Addition\",\\n\\t\\t\\t\"Id\": 3\\n\\t\\t}\\n\\t],\\n\\t\"Connections\": [\\n\\t\\t{\\n\\t\\t\\t\"To\": { // Addition\\n\\t\\t\\t\\t\"Id\": 3,\\n\\t\\t\\t\\t\"ParameterName\": \"A\"\\n\\t\\t\\t},\\n\\t\\t\\t\"From\": { // Number Slider,\\n\\t\\t\\t\\t\"Id\": 1,\\n\\t\\t\\t\\t\"ParameterName\": \"number\"\\n\\t\\t\\t}\\n\\t\\t},\\n\\t\\t{\\n\\t\\t\\t\"To\": { // Addition\\n\\t\\t\\t\\t\"Id\": 3,\\n\\t\\t\\t\\t\"ParameterName\": \"B\"\\n\\t\\t\\t},\\n\\t\\t\\t\"From\": { // Number Slider,\\n\\t\\t\\t\\t\"Id\": 2,\\n\\t\\t\\t\\t\"ParameterName\": \"number\"\\n\\t\\t\\t}\\n\\t\\t}\\n\\t]\\n}\\n\\n// Question: How do I create a cup shape in grasshopper\\n// Reasoning: To create a cup shape in Grasshopper, we\"ll first create a circle using a \"Circle CNR\" component, which will act as the base of the cup. Then, we will use a \"Move\" component to move the base circle vertically to create the upper rim of the cup. To create the body of the cup, we\"ll loft these two circles using a \"Loft\" component.\\n// JSON:\\n{\\n\\t\"Advice\": \"Remember, to properly define the cup\\\\\"s dimensions using the number slider\",\\n\\t\"Additions\": [\\n\\t\\t{\\n\\t\\t\\t\"Name\": \"Circle CNR\",\\n\\t\\t\\t\"Id\": 1\\n\\t\\t},\\n\\t\\t{\\n\\t\\t\\t\"Name\": \"Move\",\\n\\t\\t\\t\"Id\": 2\\n\\t\\t},\\n\\t\\t{\\n\\t\\t\\t\"Name\": \"Loft\",\\n\\t\\t\\t\"Id\": 3\\n\\t\\t}\\n\\t],\\n\\t\"Connections\": [\\n\\t\\t{\\n\\t\\t\\t\"To\": {\\n\\t\\t\\t\\t\"Id\": 2,\\n\\t\\t\\t\\t\"ParameterName\": \"Geometry\"\\n\\t\\t\\t},\\n\\t\\t\\t\"From\": {\\n\\t\\t\\t\\t\"Id\": 1,\\n\\t\\t\\t\\t\"ParameterName\": \"Circle\"\\n\\t\\t\\t}\\n\\t\\t},\\n\\t\\t{\\n\\t\\t\\t\"To\": {\\n\\t\\t\\t\\t\"Id\": 3,\\n\\t\\t\\t\\t\"ParameterName\": \"Curves\"\\n\\t\\t\\t},\\n\\t\\t\\t\"From\": {\\n\\t\\t\\t\\t\"Id\": 1,\\n\\t\\t\\t\\t\"ParameterName\": \"Circle\"\\n\\t\\t\\t}\\n\\t\\t},\\n\\t\\t{\\n\\t\\t\\t\"To\": {\\n\\t\\t\\t\\t\"Id\": 3,\\n\\t\\t\\t\\t\"ParameterName\": \"Curves\"\\n\\t\\t\\t},\\n\\t\\t\\t\"From\": {\\n\\t\\t\\t\\t\"Id\": 2,\\n\\t\\t\\t\\t\"ParameterName\": \"Geometry\"\\n\\t\\t\\t}\\n\\t\\t}\\n\\t]\\n}\\n```\\n\\n// Question: How do I create a twisty skyscraper?\\n// Reasoning: We can create the \"twist\" using the twist component, so lets extrude a rectangle and twist it!\\n// JSON:\\n{\\n\\t\"Advice\": \"Make sure to use reasonable inputs or the skyscraper will look weird\",\\n\\t\"Additions\": [\\n\\t\\t{\\n\\t\\t\\t\"Name\": \"Rectangle\",\\n\\t\\t\\t\"Id\": 1\\n\\t\\t},\\n\\t\\t{\\n\\t\\t\\t\"Name\": \"Number Slider\",\\n\\t\\t\\t\"Id\": 2,\\n\\t\\t\\t\"Value\": \"0..50..100\"\\n\\t\\t},\\n\\t\\t{\\n\\t\\t\\t\"Name\": \"Unit Z\",\\n\\t\\t\\t\"Id\": 3\\n\\t\\t},\\n\\t\\t{\\n\\t\\t\\t\"Name\": \"Extrusion\",\\n\\t\\t\\t\"Id\": 4\\n\\t\\t},\\n\\t\\t{\\n\\t\\t\\t\"Name\": \"Number Slider\",\\n\\t\\t\\t\"Id\": 5,\\n\\t\\t\\t\"Value\": \"0..90..360\"\\n\\t\\t},\\n\\t\\t{\\n\\t\\t\\t\"Name\": \"Line\",\\n\\t\\t\\t\"Id\": 6\\n\\t\\t},\\n\\t\\t{\\n\\t\\t\\t\"Name\": \"Point\"\\n\\t\\t\\t\"Id\": 7,\\n\\t\\t\\t\"value\": \"{0,0,0}\"\\n\\t\\t},\\n\\t\\t{\\n\\t\\t\\t\"Name\": \"Point\"\\n\\t\\t\\t\"Id\": 8,\\n\\t\\t\\t\"value\": \"{0,0,250}\"\\n\\t\\t},\\n\\t\\t{\\n\\t\\t\\t\"Name\": \"Twist\",\\n\\t\\t\\t\"Id\": 9\\n\\t\\t},\\n\\t\\t{\\n\\t\\t\\t\"Name\": \"Solid Union\",\\n\\t\\t\\t\"Id\": 10\\n\\t\\t},\\n\\t\\t{\\n\\t\\t\\t\"Name\": \"Brep Join\",\\n\\t\\t\\t\"Id\": 11\\n\\t\\t}\\n\\t],\\n\\t\"Connections\": [\\n\\t\\t{\\n\\t\\t\\t\"To\": {\\n\\t\\t\\t\\t\"Id\": 4,\\n\\t\\t\\t\\t\"ParameterName\": \"Base\"\\n\\t\\t\\t},\\n\\t\\t\\t\"From\": {\\n\\t\\t\\t\\t\"Id\": 1,\\n\\t\\t\\t\\t\"ParameterName\": \"Rectangle\"\\n\\t\\t\\t}\\n\\t\\t},\\n\\t\\t{\\n\\t\\t\\t\"To\": {\\n\\t\\t\\t\\t\"Id\": 3,\\n\\t\\t\\t\\t\"ParameterName\": \"Factor\"\\n\\t\\t\\t},\\n\\t\\t\\t\"From\": {\\n\\t\\t\\t\\t\"Id\": 2,\\n\\t\\t\\t\\t\"ParameterName\": \"Number\"\\n\\t\\t\\t}\\n\\t\\t},\\n\\t\\t{\\n\\t\\t\\t\"To\": {\\n\\t\\t\\t\\t\"Id\": 9,\\n\\t\\t\\t\\t\"ParameterName\": \"Angle\"\\n\\t\\t\\t},\\n\\t\\t\\t\"From\": {\\n\\t\\t\\t\\t\"Id\": 5,\\n\\t\\t\\t\\t\"ParameterName\": \"Number\"\\n\\t\\t\\t}\\n\\t\\t},\\n\\t\\t{\\n\\t\\t\\t\"To\": {\\n\\t\\t\\t\\t\"Id\": 4,\\n\\t\\t\\t\\t\"ParameterName\": \"Direction\"\\n\\t\\t\\t},\\n\\t\\t\\t\"From\": {\\n\\t\\t\\t\\t\"Id\": 3,\\n\\t\\t\\t\\t\"ParameterName\": \"Unit vector\"\\n\\t\\t\\t}\\n\\t\\t},\\n\\t\\t{\\n\\t\\t\\t\"To\": {\\n\\t\\t\\t\\t\"Id\": 9,\\n\\t\\t\\t\\t\"ParameterName\": \"Geometry\"\\n\\t\\t\\t},\\n\\t\\t\\t\"From\": {\\n\\t\\t\\t\\t\"Id\": 4,\\n\\t\\t\\t\\t\"ParameterName\": \"Extrusion\"\\n\\t\\t\\t}\\n\\t\\t},\\n\\t\\t{\\n\\t\\t\\t\"To\": {\\n\\t\\t\\t\\t\"Id\": 6,\\n\\t\\t\\t\\t\"ParameterName\": \"Start Point\"\\n\\t\\t\\t},\\n\\t\\t\\t\"From\": {\\n\\t\\t\\t\\t\"Id\": 7,\\n\\t\\t\\t\\t\"ParameterName\": \"Point\"\\n\\t\\t\\t}\\n\\t\\t},\\n\\t\\t{\\n\\t\\t\\t\"To\": {\\n\\t\\t\\t\\t\"Id\": 6,\\n\\t\\t\\t\\t\"ParameterName\": \"End Point\"\\n\\t\\t\\t},\\n\\t\\t\\t\"From\": {\\n\\t\\t\\t\\t\"Id\": 8,\\n\\t\\t\\t\\t\"ParameterName\": \"Point\"\\n\\t\\t\\t}\\n\\t\\t},\\n\\t\\t{\\n\\t\\t\\t\"To\": {\\n\\t\\t\\t\\t\"Id\": 10,\\n\\t\\t\\t\\t\"ParameterName\": \"Breps\"\\n\\t\\t\\t},\\n\\t\\t\\t\"From\": {\\n\\t\\t\\t\\t\"Id\": 9,\\n\\t\\t\\t\\t\"ParameterName\": \"Geometry\"\\n\\t\\t\\t}\\n\\t\\t},\\n\\t\\t{\\n\\t\\t\\t\"To\": {\\n\\t\\t\\t\\t\"Id\": 11,\\n\\t\\t\\t\\t\"ParameterName\": \"Breps\"\\n\\t\\t\\t},\\n\\t\\t\\t\"From\": {\\n\\t\\t\\t\\t\"Id\": 10,\\n\\t\\t\\t\\t\"ParameterName\": \"Result\"\\n\\t\\t\\t}\\n\\t\\t},\\n\\t\\t{\\n      \"To\": {\\n          \"Id\": 9,\\n          \"ParameterName\": \"Axis\"\\n        },\\n      \"From\": {\\n          \"Id\": 6,\\n          \"ParameterName\": \"Line\"\\n      }\\n\\t\\t}\\n\\t]\\n}\\n\\n// Question: create a sphere\\n// Reasoning:\\n'"
            ],
            "application/vnd.google.colaboratory.intrinsic+json": {
              "type": "string"
            }
          },
          "metadata": {},
          "execution_count": 11
        }
      ]
    },
    {
      "cell_type": "markdown",
      "source": [
        "## Baseline Call"
      ],
      "metadata": {
        "id": "fBGAjqv1780t"
      }
    },
    {
      "cell_type": "code",
      "source": [
        "# model: str = \"gpt-3.5-turbo-1106\"\n",
        "model: str = \"gpt-3.5-turbo\"\n",
        "# model = \"gpt-4\"\n",
        "temperature: float = 0\n",
        "\n",
        "prompt=system_prompt + prompt_template.format(QUESTION=\"sphere\")\n",
        "\n",
        "completion = call_openai(prompt=prompt, system_prompt=\"\", model=model, temperature=temperature)\n",
        "result = completion.choices[0].message\n",
        "print(result.content)"
      ],
      "metadata": {
        "colab": {
          "base_uri": "https://localhost:8080/"
        },
        "id": "wht7UJWg0jca",
        "outputId": "2cba7402-be8b-45b8-86cc-932bb7c13bd4"
      },
      "execution_count": null,
      "outputs": [
        {
          "output_type": "stream",
          "name": "stdout",
          "text": [
            "I'm sorry, but it seems like you haven't provided enough information or context for creating a sphere in Grasshopper. Could you please provide more details or specifications so I can assist you better?\n"
          ]
        }
      ]
    },
    {
      "cell_type": "markdown",
      "source": [
        "# Instructor"
      ],
      "metadata": {
        "id": "XnxRNbOBFhE7"
      }
    },
    {
      "cell_type": "code",
      "source": [
        "!pip install -U instructor\n",
        "!pip install anthropic"
      ],
      "metadata": {
        "id": "NZrSSRF8O3sn"
      },
      "execution_count": null,
      "outputs": []
    },
    {
      "cell_type": "code",
      "source": [
        "from pydantic import BaseModel, Field, field_validator, ValidationError\n",
        "from typing import List, Optional\n",
        "\n",
        "class Component(BaseModel):\n",
        "    Name: str = Field(..., description=\"The name of the component to be added. Only standard grasshopper components are allowed\")\n",
        "    Id: int = Field(..., description=\"A unique identifier for the component, starting from 1 and counting upwards\")\n",
        "    Value: Optional[str] = Field(None, alias='Value', description=\"The range of values for the component, if applicable. Only to be used for Panel, Number Slider, or Point components\")\n",
        "\n",
        "class InputConnectionDetail(BaseModel):\n",
        "    Id: int = Field(..., description=\"The unique identifier of the component the connection is related to\")\n",
        "    ParameterName: str = Field(..., description=\"The specific input parameter of the component that the connection affects\")\n",
        "\n",
        "class OutputConnectionDetail(BaseModel):\n",
        "    Id: int = Field(..., description=\"The unique identifier of the component the connection is related to\")\n",
        "    ParameterName: str = Field(..., description=\"The specific output parameter of the component that the connection affects\")\n",
        "\n",
        "class Connection(BaseModel):\n",
        "    From: OutputConnectionDetail = Field(..., description=\"The source component and parameter from which the connection originates\")\n",
        "    To: InputConnectionDetail = Field(..., description=\"The target component and parameter that the connection is directing to\")\n",
        "\n",
        "class GrasshopperScriptModel(BaseModel):\n",
        "    \"\"\"\n",
        "    A representation of a grasshopper script with all grasshopper components and the connections between them. Use sliders for variable inputs to the script\n",
        "    \"\"\"\n",
        "    ChainOfThought: str = Field(..., description=\"step by step rational explaining how the script acheives the aim, including the main components used\")\n",
        "    Advice: str = Field(..., description=\"A piece of advice or instruction related to using the grasshopper script\")\n",
        "    Additions: List[Component] = Field(..., description=\"A list of components to be added to the configuration\")\n",
        "    Connections: List[Connection] = Field(..., description=\"A list of connections defining relationships between components' parameters\")\n",
        "\n",
        "    @field_validator(\"ChainOfThought\")\n",
        "    @classmethod\n",
        "    def validate_cot(cls, v):\n",
        "        if v.upper() != v:\n",
        "            raise ValueError(\"entire ChainOfThought response must be in uppercase.\")\n",
        "        return v\n",
        "\n",
        "# Example usage:\n",
        "example_json = {\n",
        "    \"ChainOfThought\": \"Use the sphere component with a slider as input to set the radius\",\n",
        "    \"Advice\": \"Adjust the radius of the sphere using a number slider for desired size\",\n",
        "    \"Additions\": [\n",
        "        {\n",
        "            \"Name\": \"Sphere\",\n",
        "            \"Id\": 1\n",
        "        },\n",
        "        {\n",
        "            \"Name\": \"Number Slider\",\n",
        "            \"Id\": 2,\n",
        "            \"Value\": \"5..50..100\"\n",
        "        }\n",
        "    ],\n",
        "    \"Connections\": [\n",
        "        {\n",
        "            \"To\": {\n",
        "                \"Id\": 1,\n",
        "                \"ParameterName\": \"Radius\"\n",
        "            },\n",
        "            \"From\": {\n",
        "                \"Id\": 2,\n",
        "                \"ParameterName\": \"Number\"\n",
        "            }\n",
        "        }\n",
        "    ]\n",
        "}\n",
        "\n",
        "try:\n",
        "    config = GrasshopperScriptModel(**example_json)\n",
        "    # print(example_json)\n",
        "    print(config.json())\n",
        "except ValidationError as e:\n",
        "    print(e)"
      ],
      "metadata": {
        "colab": {
          "base_uri": "https://localhost:8080/"
        },
        "id": "p5QQXh2pFjST",
        "outputId": "202c55aa-5348-432e-dc29-80e69227fb53"
      },
      "execution_count": 24,
      "outputs": [
        {
          "output_type": "stream",
          "name": "stdout",
          "text": [
            "1 validation error for GrasshopperScriptModel\n",
            "ChainOfThought\n",
            "  Value error, entire ChainOfThought response must be in uppercase. [type=value_error, input_value='Use the sphere component...input to set the radius', input_type=str]\n",
            "    For further information visit https://errors.pydantic.dev/2.7/v/value_error\n"
          ]
        }
      ]
    },
    {
      "cell_type": "code",
      "source": [
        "import instructor\n",
        "\n",
        "client = instructor.patch(OpenAI(api_key=OPENAI_API_KEY))"
      ],
      "metadata": {
        "id": "U60h0Nz7O1H7"
      },
      "execution_count": 19,
      "outputs": []
    },
    {
      "cell_type": "code",
      "source": [
        "# create the openai api call function\n",
        "def call_openai(prompt: str, system_prompt: str = \"\", model: str = \"gpt-3.5-turbo-1106\", temperature: float = 0):\n",
        "    completion = client.chat.completions.create(\n",
        "        model=model,\n",
        "        temperature=temperature,\n",
        "        messages=[\n",
        "            {\"role\": \"system\", \"content\": system_prompt},\n",
        "            {\"role\": \"user\", \"content\": prompt}\n",
        "        ],\n",
        "        response_model=GrasshopperScriptModel\n",
        "    )\n",
        "\n",
        "    return completion"
      ],
      "metadata": {
        "id": "0ke-FfdlPkWk"
      },
      "execution_count": 25,
      "outputs": []
    },
    {
      "cell_type": "code",
      "source": [
        "model = \"gpt-3.5-turbo-1106\"\n",
        "# model = \"gpt-4-1106-preview\"\n",
        "response = call_openai(prompt='sphere', system_prompt=system_prompt)"
      ],
      "metadata": {
        "id": "gfnp9bV_Pl0Z",
        "outputId": "43c9b714-85cd-4dea-d007-da68e1ee5db0",
        "colab": {
          "base_uri": "https://localhost:8080/",
          "height": 1000
        }
      },
      "execution_count": 26,
      "outputs": [
        {
          "output_type": "error",
          "ename": "InstructorRetryException",
          "evalue": "1 validation error for GrasshopperScriptModel\nChainOfThought\n  Value error, entire ChainOfThought response must be in uppercase. [type=value_error, input_value='Create a sphere using th... using a Number Slider.', input_type=str]\n    For further information visit https://errors.pydantic.dev/2.7/v/value_error",
          "traceback": [
            "\u001b[0;31m---------------------------------------------------------------------------\u001b[0m",
            "\u001b[0;31mValidationError\u001b[0m                           Traceback (most recent call last)",
            "\u001b[0;32m/usr/local/lib/python3.10/dist-packages/instructor/retry.py\u001b[0m in \u001b[0;36mretry_sync\u001b[0;34m(func, response_model, validation_context, args, kwargs, max_retries, strict, mode)\u001b[0m\n\u001b[1;32m    157\u001b[0m                     \u001b[0mresponse\u001b[0m \u001b[0;34m=\u001b[0m \u001b[0mupdate_total_usage\u001b[0m\u001b[0;34m(\u001b[0m\u001b[0mresponse\u001b[0m\u001b[0;34m,\u001b[0m \u001b[0mtotal_usage\u001b[0m\u001b[0;34m)\u001b[0m\u001b[0;34m\u001b[0m\u001b[0;34m\u001b[0m\u001b[0m\n\u001b[0;32m--> 158\u001b[0;31m                     return process_response(\n\u001b[0m\u001b[1;32m    159\u001b[0m                         \u001b[0mresponse\u001b[0m\u001b[0;34m,\u001b[0m\u001b[0;34m\u001b[0m\u001b[0;34m\u001b[0m\u001b[0m\n",
            "\u001b[0;32m/usr/local/lib/python3.10/dist-packages/instructor/process_response.py\u001b[0m in \u001b[0;36mprocess_response\u001b[0;34m(response, response_model, stream, validation_context, strict, mode)\u001b[0m\n\u001b[1;32m    141\u001b[0m \u001b[0;34m\u001b[0m\u001b[0m\n\u001b[0;32m--> 142\u001b[0;31m     model = response_model.from_response(\n\u001b[0m\u001b[1;32m    143\u001b[0m         \u001b[0mresponse\u001b[0m\u001b[0;34m,\u001b[0m\u001b[0;34m\u001b[0m\u001b[0;34m\u001b[0m\u001b[0m\n",
            "\u001b[0;32m/usr/local/lib/python3.10/dist-packages/instructor/function_calls.py\u001b[0m in \u001b[0;36mfrom_response\u001b[0;34m(cls, completion, validation_context, strict, mode)\u001b[0m\n\u001b[1;32m    114\u001b[0m         \u001b[0;32mif\u001b[0m \u001b[0mmode\u001b[0m \u001b[0;32min\u001b[0m \u001b[0;34m{\u001b[0m\u001b[0mMode\u001b[0m\u001b[0;34m.\u001b[0m\u001b[0mTOOLS\u001b[0m\u001b[0;34m,\u001b[0m \u001b[0mMode\u001b[0m\u001b[0;34m.\u001b[0m\u001b[0mMISTRAL_TOOLS\u001b[0m\u001b[0;34m}\u001b[0m\u001b[0;34m:\u001b[0m\u001b[0;34m\u001b[0m\u001b[0;34m\u001b[0m\u001b[0m\n\u001b[0;32m--> 115\u001b[0;31m             \u001b[0;32mreturn\u001b[0m \u001b[0mcls\u001b[0m\u001b[0;34m.\u001b[0m\u001b[0mparse_tools\u001b[0m\u001b[0;34m(\u001b[0m\u001b[0mcompletion\u001b[0m\u001b[0;34m,\u001b[0m \u001b[0mvalidation_context\u001b[0m\u001b[0;34m,\u001b[0m \u001b[0mstrict\u001b[0m\u001b[0;34m)\u001b[0m\u001b[0;34m\u001b[0m\u001b[0;34m\u001b[0m\u001b[0m\n\u001b[0m\u001b[1;32m    116\u001b[0m \u001b[0;34m\u001b[0m\u001b[0m\n",
            "\u001b[0;32m/usr/local/lib/python3.10/dist-packages/instructor/function_calls.py\u001b[0m in \u001b[0;36mparse_tools\u001b[0;34m(cls, completion, validation_context, strict)\u001b[0m\n\u001b[1;32m    206\u001b[0m         ), \"Tool name does not match\"\n\u001b[0;32m--> 207\u001b[0;31m         return cls.model_validate_json(\n\u001b[0m\u001b[1;32m    208\u001b[0m             \u001b[0mtool_call\u001b[0m\u001b[0;34m.\u001b[0m\u001b[0mfunction\u001b[0m\u001b[0;34m.\u001b[0m\u001b[0marguments\u001b[0m\u001b[0;34m,\u001b[0m  \u001b[0;31m# type: ignore\u001b[0m\u001b[0;34m\u001b[0m\u001b[0;34m\u001b[0m\u001b[0m\n",
            "\u001b[0;32m/usr/local/lib/python3.10/dist-packages/pydantic/main.py\u001b[0m in \u001b[0;36mmodel_validate_json\u001b[0;34m(cls, json_data, strict, context)\u001b[0m\n\u001b[1;32m    579\u001b[0m         \u001b[0m__tracebackhide__\u001b[0m \u001b[0;34m=\u001b[0m \u001b[0;32mTrue\u001b[0m\u001b[0;34m\u001b[0m\u001b[0;34m\u001b[0m\u001b[0m\n\u001b[0;32m--> 580\u001b[0;31m         \u001b[0;32mreturn\u001b[0m \u001b[0mcls\u001b[0m\u001b[0;34m.\u001b[0m\u001b[0m__pydantic_validator__\u001b[0m\u001b[0;34m.\u001b[0m\u001b[0mvalidate_json\u001b[0m\u001b[0;34m(\u001b[0m\u001b[0mjson_data\u001b[0m\u001b[0;34m,\u001b[0m \u001b[0mstrict\u001b[0m\u001b[0;34m=\u001b[0m\u001b[0mstrict\u001b[0m\u001b[0;34m,\u001b[0m \u001b[0mcontext\u001b[0m\u001b[0;34m=\u001b[0m\u001b[0mcontext\u001b[0m\u001b[0;34m)\u001b[0m\u001b[0;34m\u001b[0m\u001b[0;34m\u001b[0m\u001b[0m\n\u001b[0m\u001b[1;32m    581\u001b[0m \u001b[0;34m\u001b[0m\u001b[0m\n",
            "\u001b[0;31mValidationError\u001b[0m: 1 validation error for GrasshopperScriptModel\nChainOfThought\n  Value error, entire ChainOfThought response must be in uppercase. [type=value_error, input_value='Create a sphere using th... using a Number Slider.', input_type=str]\n    For further information visit https://errors.pydantic.dev/2.7/v/value_error",
            "\nThe above exception was the direct cause of the following exception:\n",
            "\u001b[0;31mInstructorRetryException\u001b[0m                  Traceback (most recent call last)",
            "\u001b[0;32m<ipython-input-26-1e7954274d72>\u001b[0m in \u001b[0;36m<cell line: 3>\u001b[0;34m()\u001b[0m\n\u001b[1;32m      1\u001b[0m \u001b[0mmodel\u001b[0m \u001b[0;34m=\u001b[0m \u001b[0;34m\"gpt-3.5-turbo-1106\"\u001b[0m\u001b[0;34m\u001b[0m\u001b[0;34m\u001b[0m\u001b[0m\n\u001b[1;32m      2\u001b[0m \u001b[0mmodel\u001b[0m \u001b[0;34m=\u001b[0m \u001b[0;34m\"gpt-4-1106-preview\"\u001b[0m\u001b[0;34m\u001b[0m\u001b[0;34m\u001b[0m\u001b[0m\n\u001b[0;32m----> 3\u001b[0;31m \u001b[0mresponse\u001b[0m \u001b[0;34m=\u001b[0m \u001b[0mcall_openai\u001b[0m\u001b[0;34m(\u001b[0m\u001b[0mprompt\u001b[0m\u001b[0;34m=\u001b[0m\u001b[0;34m'sphere'\u001b[0m\u001b[0;34m,\u001b[0m \u001b[0msystem_prompt\u001b[0m\u001b[0;34m=\u001b[0m\u001b[0msystem_prompt\u001b[0m\u001b[0;34m)\u001b[0m\u001b[0;34m\u001b[0m\u001b[0;34m\u001b[0m\u001b[0m\n\u001b[0m",
            "\u001b[0;32m<ipython-input-25-96ca15d76b63>\u001b[0m in \u001b[0;36mcall_openai\u001b[0;34m(prompt, system_prompt, model, temperature)\u001b[0m\n\u001b[1;32m      1\u001b[0m \u001b[0;31m# create the openai api call function\u001b[0m\u001b[0;34m\u001b[0m\u001b[0;34m\u001b[0m\u001b[0m\n\u001b[1;32m      2\u001b[0m \u001b[0;32mdef\u001b[0m \u001b[0mcall_openai\u001b[0m\u001b[0;34m(\u001b[0m\u001b[0mprompt\u001b[0m\u001b[0;34m:\u001b[0m \u001b[0mstr\u001b[0m\u001b[0;34m,\u001b[0m \u001b[0msystem_prompt\u001b[0m\u001b[0;34m:\u001b[0m \u001b[0mstr\u001b[0m \u001b[0;34m=\u001b[0m \u001b[0;34m\"\"\u001b[0m\u001b[0;34m,\u001b[0m \u001b[0mmodel\u001b[0m\u001b[0;34m:\u001b[0m \u001b[0mstr\u001b[0m \u001b[0;34m=\u001b[0m \u001b[0;34m\"gpt-3.5-turbo-1106\"\u001b[0m\u001b[0;34m,\u001b[0m \u001b[0mtemperature\u001b[0m\u001b[0;34m:\u001b[0m \u001b[0mfloat\u001b[0m \u001b[0;34m=\u001b[0m \u001b[0;36m0\u001b[0m\u001b[0;34m)\u001b[0m\u001b[0;34m:\u001b[0m\u001b[0;34m\u001b[0m\u001b[0;34m\u001b[0m\u001b[0m\n\u001b[0;32m----> 3\u001b[0;31m     completion = client.chat.completions.create(\n\u001b[0m\u001b[1;32m      4\u001b[0m         \u001b[0mmodel\u001b[0m\u001b[0;34m=\u001b[0m\u001b[0mmodel\u001b[0m\u001b[0;34m,\u001b[0m\u001b[0;34m\u001b[0m\u001b[0;34m\u001b[0m\u001b[0m\n\u001b[1;32m      5\u001b[0m         \u001b[0mtemperature\u001b[0m\u001b[0;34m=\u001b[0m\u001b[0mtemperature\u001b[0m\u001b[0;34m,\u001b[0m\u001b[0;34m\u001b[0m\u001b[0;34m\u001b[0m\u001b[0m\n",
            "\u001b[0;32m/usr/local/lib/python3.10/dist-packages/instructor/patch.py\u001b[0m in \u001b[0;36mnew_create_sync\u001b[0;34m(response_model, validation_context, max_retries, strict, *args, **kwargs)\u001b[0m\n\u001b[1;32m    141\u001b[0m             \u001b[0mresponse_model\u001b[0m\u001b[0;34m=\u001b[0m\u001b[0mresponse_model\u001b[0m\u001b[0;34m,\u001b[0m \u001b[0mmode\u001b[0m\u001b[0;34m=\u001b[0m\u001b[0mmode\u001b[0m\u001b[0;34m,\u001b[0m \u001b[0;34m**\u001b[0m\u001b[0mkwargs\u001b[0m\u001b[0;34m\u001b[0m\u001b[0;34m\u001b[0m\u001b[0m\n\u001b[1;32m    142\u001b[0m         )\n\u001b[0;32m--> 143\u001b[0;31m         response = retry_sync(\n\u001b[0m\u001b[1;32m    144\u001b[0m             \u001b[0mfunc\u001b[0m\u001b[0;34m=\u001b[0m\u001b[0mfunc\u001b[0m\u001b[0;34m,\u001b[0m\u001b[0;34m\u001b[0m\u001b[0;34m\u001b[0m\u001b[0m\n\u001b[1;32m    145\u001b[0m             \u001b[0mresponse_model\u001b[0m\u001b[0;34m=\u001b[0m\u001b[0mresponse_model\u001b[0m\u001b[0;34m,\u001b[0m\u001b[0;34m\u001b[0m\u001b[0;34m\u001b[0m\u001b[0m\n",
            "\u001b[0;32m/usr/local/lib/python3.10/dist-packages/instructor/retry.py\u001b[0m in \u001b[0;36mretry_sync\u001b[0;34m(func, response_model, validation_context, args, kwargs, max_retries, strict, mode)\u001b[0m\n\u001b[1;32m    150\u001b[0m \u001b[0;34m\u001b[0m\u001b[0m\n\u001b[1;32m    151\u001b[0m     \u001b[0;32mtry\u001b[0m\u001b[0;34m:\u001b[0m\u001b[0;34m\u001b[0m\u001b[0;34m\u001b[0m\u001b[0m\n\u001b[0;32m--> 152\u001b[0;31m         \u001b[0;32mfor\u001b[0m \u001b[0mattempt\u001b[0m \u001b[0;32min\u001b[0m \u001b[0mmax_retries\u001b[0m\u001b[0;34m:\u001b[0m\u001b[0;34m\u001b[0m\u001b[0;34m\u001b[0m\u001b[0m\n\u001b[0m\u001b[1;32m    153\u001b[0m             \u001b[0;32mwith\u001b[0m \u001b[0mattempt\u001b[0m\u001b[0;34m:\u001b[0m\u001b[0;34m\u001b[0m\u001b[0;34m\u001b[0m\u001b[0m\n\u001b[1;32m    154\u001b[0m                 \u001b[0;32mtry\u001b[0m\u001b[0;34m:\u001b[0m\u001b[0;34m\u001b[0m\u001b[0;34m\u001b[0m\u001b[0m\n",
            "\u001b[0;32m/usr/local/lib/python3.10/dist-packages/tenacity/__init__.py\u001b[0m in \u001b[0;36m__iter__\u001b[0;34m(self)\u001b[0m\n\u001b[1;32m    345\u001b[0m         \u001b[0mretry_state\u001b[0m \u001b[0;34m=\u001b[0m \u001b[0mRetryCallState\u001b[0m\u001b[0;34m(\u001b[0m\u001b[0mself\u001b[0m\u001b[0;34m,\u001b[0m \u001b[0mfn\u001b[0m\u001b[0;34m=\u001b[0m\u001b[0;32mNone\u001b[0m\u001b[0;34m,\u001b[0m \u001b[0margs\u001b[0m\u001b[0;34m=\u001b[0m\u001b[0;34m(\u001b[0m\u001b[0;34m)\u001b[0m\u001b[0;34m,\u001b[0m \u001b[0mkwargs\u001b[0m\u001b[0;34m=\u001b[0m\u001b[0;34m{\u001b[0m\u001b[0;34m}\u001b[0m\u001b[0;34m)\u001b[0m\u001b[0;34m\u001b[0m\u001b[0;34m\u001b[0m\u001b[0m\n\u001b[1;32m    346\u001b[0m         \u001b[0;32mwhile\u001b[0m \u001b[0;32mTrue\u001b[0m\u001b[0;34m:\u001b[0m\u001b[0;34m\u001b[0m\u001b[0;34m\u001b[0m\u001b[0m\n\u001b[0;32m--> 347\u001b[0;31m             \u001b[0mdo\u001b[0m \u001b[0;34m=\u001b[0m \u001b[0mself\u001b[0m\u001b[0;34m.\u001b[0m\u001b[0miter\u001b[0m\u001b[0;34m(\u001b[0m\u001b[0mretry_state\u001b[0m\u001b[0;34m=\u001b[0m\u001b[0mretry_state\u001b[0m\u001b[0;34m)\u001b[0m\u001b[0;34m\u001b[0m\u001b[0;34m\u001b[0m\u001b[0m\n\u001b[0m\u001b[1;32m    348\u001b[0m             \u001b[0;32mif\u001b[0m \u001b[0misinstance\u001b[0m\u001b[0;34m(\u001b[0m\u001b[0mdo\u001b[0m\u001b[0;34m,\u001b[0m \u001b[0mDoAttempt\u001b[0m\u001b[0;34m)\u001b[0m\u001b[0;34m:\u001b[0m\u001b[0;34m\u001b[0m\u001b[0;34m\u001b[0m\u001b[0m\n\u001b[1;32m    349\u001b[0m                 \u001b[0;32myield\u001b[0m \u001b[0mAttemptManager\u001b[0m\u001b[0;34m(\u001b[0m\u001b[0mretry_state\u001b[0m\u001b[0;34m=\u001b[0m\u001b[0mretry_state\u001b[0m\u001b[0;34m)\u001b[0m\u001b[0;34m\u001b[0m\u001b[0;34m\u001b[0m\u001b[0m\n",
            "\u001b[0;32m/usr/local/lib/python3.10/dist-packages/tenacity/__init__.py\u001b[0m in \u001b[0;36miter\u001b[0;34m(self, retry_state)\u001b[0m\n\u001b[1;32m    323\u001b[0m             \u001b[0mretry_exc\u001b[0m \u001b[0;34m=\u001b[0m \u001b[0mself\u001b[0m\u001b[0;34m.\u001b[0m\u001b[0mretry_error_cls\u001b[0m\u001b[0;34m(\u001b[0m\u001b[0mfut\u001b[0m\u001b[0;34m)\u001b[0m\u001b[0;34m\u001b[0m\u001b[0;34m\u001b[0m\u001b[0m\n\u001b[1;32m    324\u001b[0m             \u001b[0;32mif\u001b[0m \u001b[0mself\u001b[0m\u001b[0;34m.\u001b[0m\u001b[0mreraise\u001b[0m\u001b[0;34m:\u001b[0m\u001b[0;34m\u001b[0m\u001b[0;34m\u001b[0m\u001b[0m\n\u001b[0;32m--> 325\u001b[0;31m                 \u001b[0;32mraise\u001b[0m \u001b[0mretry_exc\u001b[0m\u001b[0;34m.\u001b[0m\u001b[0mreraise\u001b[0m\u001b[0;34m(\u001b[0m\u001b[0;34m)\u001b[0m\u001b[0;34m\u001b[0m\u001b[0;34m\u001b[0m\u001b[0m\n\u001b[0m\u001b[1;32m    326\u001b[0m             \u001b[0;32mraise\u001b[0m \u001b[0mretry_exc\u001b[0m \u001b[0;32mfrom\u001b[0m \u001b[0mfut\u001b[0m\u001b[0;34m.\u001b[0m\u001b[0mexception\u001b[0m\u001b[0;34m(\u001b[0m\u001b[0;34m)\u001b[0m\u001b[0;34m\u001b[0m\u001b[0;34m\u001b[0m\u001b[0m\n\u001b[1;32m    327\u001b[0m \u001b[0;34m\u001b[0m\u001b[0m\n",
            "\u001b[0;32m/usr/local/lib/python3.10/dist-packages/tenacity/__init__.py\u001b[0m in \u001b[0;36mreraise\u001b[0;34m(self)\u001b[0m\n\u001b[1;32m    156\u001b[0m     \u001b[0;32mdef\u001b[0m \u001b[0mreraise\u001b[0m\u001b[0;34m(\u001b[0m\u001b[0mself\u001b[0m\u001b[0;34m)\u001b[0m \u001b[0;34m->\u001b[0m \u001b[0mt\u001b[0m\u001b[0;34m.\u001b[0m\u001b[0mNoReturn\u001b[0m\u001b[0;34m:\u001b[0m\u001b[0;34m\u001b[0m\u001b[0;34m\u001b[0m\u001b[0m\n\u001b[1;32m    157\u001b[0m         \u001b[0;32mif\u001b[0m \u001b[0mself\u001b[0m\u001b[0;34m.\u001b[0m\u001b[0mlast_attempt\u001b[0m\u001b[0;34m.\u001b[0m\u001b[0mfailed\u001b[0m\u001b[0;34m:\u001b[0m\u001b[0;34m\u001b[0m\u001b[0;34m\u001b[0m\u001b[0m\n\u001b[0;32m--> 158\u001b[0;31m             \u001b[0;32mraise\u001b[0m \u001b[0mself\u001b[0m\u001b[0;34m.\u001b[0m\u001b[0mlast_attempt\u001b[0m\u001b[0;34m.\u001b[0m\u001b[0mresult\u001b[0m\u001b[0;34m(\u001b[0m\u001b[0;34m)\u001b[0m\u001b[0;34m\u001b[0m\u001b[0;34m\u001b[0m\u001b[0m\n\u001b[0m\u001b[1;32m    159\u001b[0m         \u001b[0;32mraise\u001b[0m \u001b[0mself\u001b[0m\u001b[0;34m\u001b[0m\u001b[0;34m\u001b[0m\u001b[0m\n\u001b[1;32m    160\u001b[0m \u001b[0;34m\u001b[0m\u001b[0m\n",
            "\u001b[0;32m/usr/lib/python3.10/concurrent/futures/_base.py\u001b[0m in \u001b[0;36mresult\u001b[0;34m(self, timeout)\u001b[0m\n\u001b[1;32m    449\u001b[0m                     \u001b[0;32mraise\u001b[0m \u001b[0mCancelledError\u001b[0m\u001b[0;34m(\u001b[0m\u001b[0;34m)\u001b[0m\u001b[0;34m\u001b[0m\u001b[0;34m\u001b[0m\u001b[0m\n\u001b[1;32m    450\u001b[0m                 \u001b[0;32melif\u001b[0m \u001b[0mself\u001b[0m\u001b[0;34m.\u001b[0m\u001b[0m_state\u001b[0m \u001b[0;34m==\u001b[0m \u001b[0mFINISHED\u001b[0m\u001b[0;34m:\u001b[0m\u001b[0;34m\u001b[0m\u001b[0;34m\u001b[0m\u001b[0m\n\u001b[0;32m--> 451\u001b[0;31m                     \u001b[0;32mreturn\u001b[0m \u001b[0mself\u001b[0m\u001b[0;34m.\u001b[0m\u001b[0m__get_result\u001b[0m\u001b[0;34m(\u001b[0m\u001b[0;34m)\u001b[0m\u001b[0;34m\u001b[0m\u001b[0;34m\u001b[0m\u001b[0m\n\u001b[0m\u001b[1;32m    452\u001b[0m \u001b[0;34m\u001b[0m\u001b[0m\n\u001b[1;32m    453\u001b[0m                 \u001b[0mself\u001b[0m\u001b[0;34m.\u001b[0m\u001b[0m_condition\u001b[0m\u001b[0;34m.\u001b[0m\u001b[0mwait\u001b[0m\u001b[0;34m(\u001b[0m\u001b[0mtimeout\u001b[0m\u001b[0;34m)\u001b[0m\u001b[0;34m\u001b[0m\u001b[0;34m\u001b[0m\u001b[0m\n",
            "\u001b[0;32m/usr/lib/python3.10/concurrent/futures/_base.py\u001b[0m in \u001b[0;36m__get_result\u001b[0;34m(self)\u001b[0m\n\u001b[1;32m    401\u001b[0m         \u001b[0;32mif\u001b[0m \u001b[0mself\u001b[0m\u001b[0;34m.\u001b[0m\u001b[0m_exception\u001b[0m\u001b[0;34m:\u001b[0m\u001b[0;34m\u001b[0m\u001b[0;34m\u001b[0m\u001b[0m\n\u001b[1;32m    402\u001b[0m             \u001b[0;32mtry\u001b[0m\u001b[0;34m:\u001b[0m\u001b[0;34m\u001b[0m\u001b[0;34m\u001b[0m\u001b[0m\n\u001b[0;32m--> 403\u001b[0;31m                 \u001b[0;32mraise\u001b[0m \u001b[0mself\u001b[0m\u001b[0;34m.\u001b[0m\u001b[0m_exception\u001b[0m\u001b[0;34m\u001b[0m\u001b[0;34m\u001b[0m\u001b[0m\n\u001b[0m\u001b[1;32m    404\u001b[0m             \u001b[0;32mfinally\u001b[0m\u001b[0;34m:\u001b[0m\u001b[0;34m\u001b[0m\u001b[0;34m\u001b[0m\u001b[0m\n\u001b[1;32m    405\u001b[0m                 \u001b[0;31m# Break a reference cycle with the exception in self._exception\u001b[0m\u001b[0;34m\u001b[0m\u001b[0;34m\u001b[0m\u001b[0m\n",
            "\u001b[0;32m/usr/local/lib/python3.10/dist-packages/instructor/retry.py\u001b[0m in \u001b[0;36mretry_sync\u001b[0;34m(func, response_model, validation_context, args, kwargs, max_retries, strict, mode)\u001b[0m\n\u001b[1;32m    171\u001b[0m                             \u001b[0mkwargs\u001b[0m\u001b[0;34m[\u001b[0m\u001b[0;34m\"messages\"\u001b[0m\u001b[0;34m]\u001b[0m\u001b[0;34m\u001b[0m\u001b[0;34m\u001b[0m\u001b[0m\n\u001b[1;32m    172\u001b[0m                         )\n\u001b[0;32m--> 173\u001b[0;31m                     raise InstructorRetryException(\n\u001b[0m\u001b[1;32m    174\u001b[0m                         \u001b[0me\u001b[0m\u001b[0;34m,\u001b[0m\u001b[0;34m\u001b[0m\u001b[0;34m\u001b[0m\u001b[0m\n\u001b[1;32m    175\u001b[0m                         \u001b[0mlast_completion\u001b[0m\u001b[0;34m=\u001b[0m\u001b[0mresponse\u001b[0m\u001b[0;34m,\u001b[0m\u001b[0;34m\u001b[0m\u001b[0;34m\u001b[0m\u001b[0m\n",
            "\u001b[0;31mInstructorRetryException\u001b[0m: 1 validation error for GrasshopperScriptModel\nChainOfThought\n  Value error, entire ChainOfThought response must be in uppercase. [type=value_error, input_value='Create a sphere using th... using a Number Slider.', input_type=str]\n    For further information visit https://errors.pydantic.dev/2.7/v/value_error"
          ]
        }
      ]
    },
    {
      "cell_type": "code",
      "source": [
        "print(response.json())"
      ],
      "metadata": {
        "id": "lL4g-30zQY63",
        "outputId": "712dfcf6-182d-4196-8cec-259f612dd8ec",
        "colab": {
          "base_uri": "https://localhost:8080/",
          "height": 245
        }
      },
      "execution_count": 22,
      "outputs": [
        {
          "output_type": "error",
          "ename": "NameError",
          "evalue": "name 'response' is not defined",
          "traceback": [
            "\u001b[0;31m---------------------------------------------------------------------------\u001b[0m",
            "\u001b[0;31mNameError\u001b[0m                                 Traceback (most recent call last)",
            "\u001b[0;32m<ipython-input-22-5225e3996d33>\u001b[0m in \u001b[0;36m<cell line: 1>\u001b[0;34m()\u001b[0m\n\u001b[0;32m----> 1\u001b[0;31m \u001b[0mprint\u001b[0m\u001b[0;34m(\u001b[0m\u001b[0mresponse\u001b[0m\u001b[0;34m.\u001b[0m\u001b[0mjson\u001b[0m\u001b[0;34m(\u001b[0m\u001b[0;34m)\u001b[0m\u001b[0;34m)\u001b[0m\u001b[0;34m\u001b[0m\u001b[0;34m\u001b[0m\u001b[0m\n\u001b[0m",
            "\u001b[0;31mNameError\u001b[0m: name 'response' is not defined"
          ]
        }
      ]
    }
  ]
}