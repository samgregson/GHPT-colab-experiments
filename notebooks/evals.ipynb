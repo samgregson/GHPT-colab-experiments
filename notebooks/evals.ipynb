{
 "cells": [
  {
   "cell_type": "markdown",
   "metadata": {},
   "source": [
    "# Setup\n",
    "install openai and setup API key\n",
    "\n",
    "This notebook works both in a Colab environment and on local machine\n",
    "\n",
    "Colab:\n",
    "- API key must be saved in Colab sectrets as OPENAI_API_KEY\n",
    "\n",
    "Local:\n",
    "- API key must be defined in the .env file (refer to example.env)"
   ]
  },
  {
   "cell_type": "code",
   "execution_count": 2,
   "metadata": {},
   "outputs": [
    {
     "data": {
      "text/plain": [
       "False"
      ]
     },
     "execution_count": 2,
     "metadata": {},
     "output_type": "execute_result"
    }
   ],
   "source": [
    "try:\n",
    "  import google.colab\n",
    "  IN_COLAB = True\n",
    "except:\n",
    "  IN_COLAB = False\n",
    "IN_COLAB"
   ]
  },
  {
   "cell_type": "code",
   "execution_count": 3,
   "metadata": {},
   "outputs": [],
   "source": [
    "if IN_COLAB:\n",
    "    %pip install openai\n",
    "    %pip install requests\n",
    "    %pip install -U instructor\n",
    "    %pip install anthropic\n",
    "    \n",
    "    import os\n",
    "    from google.colab import userdata\n",
    "    os.environ[\"OPENAI_API_KEY\"] = userdata.get(\"OPENAI_API_KEY\")\n",
    "    os.environ[\"LANGCHAIN_API_KEY\"] = userdata.get(\"LANGCHAIN_API_KEY\")\n",
    "    os.environ[\"LANGCHAIN_TRACING_V2\"] = \"true\"\n",
    "    os.environ[\"LANGCHAIN_ENDPOINT\"] = \"https://api.smith.langchain.com\"\n",
    "    os.environ[\"LANGCHAIN_PROJECT\"] = \"GHPT_Instructor\""
   ]
  },
  {
   "cell_type": "markdown",
   "metadata": {},
   "source": [
    "### load files into Colab and install package\n",
    "\n",
    "NOTE: you may need to refresh your Colab files directory to see changes"
   ]
  },
  {
   "cell_type": "code",
   "execution_count": 4,
   "metadata": {},
   "outputs": [],
   "source": [
    "if IN_COLAB:\n",
    "    # remove the existing directory\n",
    "    import shutil\n",
    "    shutil.rmtree('/content/GHPT-experiments/', ignore_errors=True)\n",
    "    %git clone \"https://github.com/samgregson/GHPT-experiments\"\n",
    "    %pip install -e /content/GHPT-experiments/\n",
    "    # add the modules to the search path\n",
    "    import site\n",
    "    site.main()"
   ]
  },
  {
   "cell_type": "markdown",
   "metadata": {},
   "source": [
    "Load the correct SSL certificates"
   ]
  },
  {
   "cell_type": "code",
   "execution_count": 5,
   "metadata": {},
   "outputs": [
    {
     "name": "stdout",
     "output_type": "stream",
     "text": [
      "C:\\Users\\GRE111160\\AppData\\Roaming\\ssl\\ca-certificates.cer\n"
     ]
    }
   ],
   "source": [
    "if not IN_COLAB:\n",
    "    from dotenv import load_dotenv\n",
    "    import os\n",
    "    import ssl\n",
    "    load_dotenv()\n",
    "    context = ssl.create_default_context(cafile=os.environ.get(\"REQUESTS_CA_BUNDLE\"))\n",
    "    print(os.environ.get(\"REQUESTS_CA_BUNDLE\"))"
   ]
  },
  {
   "cell_type": "markdown",
   "metadata": {},
   "source": [
    "test SSL certificate, this should return `<Response [200]>` if not try restarting the Jupyter kernel"
   ]
  },
  {
   "cell_type": "code",
   "execution_count": 6,
   "metadata": {},
   "outputs": [
    {
     "data": {
      "text/plain": [
       "<Response [200]>"
      ]
     },
     "execution_count": 6,
     "metadata": {},
     "output_type": "execute_result"
    }
   ],
   "source": [
    "import requests\n",
    "requests.get(\"https://api.smith.langchain.com/docs\", verify='C:\\\\Users\\\\GRE111160\\\\AppData\\\\Roaming\\\\ssl\\\\ca-certificates.cer')"
   ]
  },
  {
   "cell_type": "markdown",
   "metadata": {},
   "source": [
    "### OpenAI"
   ]
  },
  {
   "cell_type": "code",
   "execution_count": 7,
   "metadata": {},
   "outputs": [],
   "source": [
    "from openai import OpenAI\n",
    "from langsmith.wrappers import wrap_openai\n",
    "\n",
    "client = OpenAI()\n",
    "\n",
    "# Custom wrap for VSCode, needs to be the first wrap!\n",
    "if not IN_COLAB:\n",
    "    from patch_openai.patch_openai import patch_openai\n",
    "    client = patch_openai(client)\n",
    "\n",
    "# Wrap the OpenAI client with LangSmith\n",
    "client = wrap_openai(client)"
   ]
  },
  {
   "cell_type": "code",
   "execution_count": 8,
   "metadata": {},
   "outputs": [],
   "source": [
    "import instructor\n",
    "\n",
    "client_instructor = instructor.patch(client, mode=instructor.Mode.JSON)"
   ]
  },
  {
   "cell_type": "markdown",
   "metadata": {},
   "source": [
    "# Evals"
   ]
  },
  {
   "cell_type": "code",
   "execution_count": 9,
   "metadata": {},
   "outputs": [],
   "source": [
    "inputs = [\n",
    "    \"Create a cylinder with a radius of 5 and a height of 10.\",\n",
    "    \"Generate a spiral with 10 turns and a radius of 2.\",\n",
    "    \"Create a rectangular grid of 5 by 5 points with a spacing of 10 in the x and y directions.\",\n",
    "    \"Generate a sphere with a radius of 10 at the origin.\",\n",
    "    \"Create a series of 10 circles with radii increasing by 1 for each subsequent circle.\",\n",
    "    \"Generate a 3D grid of 5x5x5 spheres with a spacing of 10 in the x, y, and z directions.\",\n",
    "    \"Create a line from the origin to the point (10,10,10).\",\n",
    "    \"Generate a series of 10 squares with side lengths increasing by 2 for each subsequent square.\",\n",
    "    \"Create a cone with a base radius of 5 and a height of 10.\",\n",
    "    \"Generate a torus with a tube radius of 2 and a path radius of 5.\",\n",
    "    \"Create a triangular grid of 5 by 5 points with a spacing of 10 in the x and y directions.\",\n",
    "    \"Generate a series of 10 rectangles with lengths and widths increasing by 2 for each subsequent rectangle.\",\n",
    "    \"Create a pyramid with a base side length of 5 and a height of 10.\",\n",
    "    \"Generate a series of 10 lines with lengths increasing by 2 for each subsequent line.\",\n",
    "    \"Create a hexagonal grid of 5 by 5 points with a spacing of 10 in the x and y directions.\",\n",
    "    \"Generate a series of 10 hexagons with side lengths increasing by 1 for each subsequent hexagon.\",\n",
    "    \"Create a 3D grid of 5x5x5 cubes with a spacing of 10 in the x, y, and z directions. The size of the cubes should be determined by each cube's proximity to a random point on the grid such that at distance 0 the cube has dimensions 0 and at distance 1 the cube has dimensions 1.\",\n",
    "    \"Generate a series of 10 cylinders with radii increasing by 1 and heights increasing by 2 for each subsequent cylinder.\",\n",
    "    \"Create a series of 10 cones with base radii increasing by 1 and heights increasing by 2 for each subsequent cone.\",\n",
    "    \"Generate a series of 10 pyramids with base side lengths increasing by 1 and heights increasing by 2 for each subsequent pyramid.\",\n",
    "]"
   ]
  },
  {
   "cell_type": "code",
   "execution_count": 12,
   "metadata": {},
   "outputs": [
    {
     "name": "stdout",
     "output_type": "stream",
     "text": [
      "{\"ChainOfThought\":\"To add two numbers, use the Number Slider component to create two editable numbers, and then use the Addition component to add them together.\",\"Additions\":[{\"Name\":\"Number Slider\",\"Id\":1,\"Value\":\"0..25..100\"},{\"Name\":\"Number Slider\",\"Id\":2,\"Value\":\"-50..25..100\"},{\"Name\":\"Addition\",\"Id\":3}],\"Connections\":[{\"From\":{\"Id\":1,\"ParameterName\":\"Value\"},\"To\":{\"Id\":3,\"ParameterName\":\"A\"}},{\"From\":{\"Id\":2,\"ParameterName\":\"Value\"},\"To\":{\"Id\":3,\"ParameterName\":\"B\"}}],\"Advice\":\"Make sure to set the number sliders to the correct value\"}\n"
     ]
    }
   ],
   "source": [
    "from pipeline.pipeline import run_pipeline\n",
    "\n",
    "for input in inputs:\n",
    "    output = run_pipeline(client=client_instructor, user_prompt=input)\n",
    "    print(output.json())\n",
    "    break"
   ]
  }
 ],
 "metadata": {
  "kernelspec": {
   "display_name": ".venv",
   "language": "python",
   "name": "python3"
  },
  "language_info": {
   "codemirror_mode": {
    "name": "ipython",
    "version": 3
   },
   "file_extension": ".py",
   "mimetype": "text/x-python",
   "name": "python",
   "nbconvert_exporter": "python",
   "pygments_lexer": "ipython3",
   "version": "3.12.3"
  }
 },
 "nbformat": 4,
 "nbformat_minor": 2
}
