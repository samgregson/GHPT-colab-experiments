{
 "cells": [
  {
   "cell_type": "code",
   "execution_count": null,
   "metadata": {},
   "outputs": [],
   "source": [
    "inputs = [\n",
    "    \"Create a cylinder with a radius of 5 and a height of 10.\",\n",
    "    \"Generate a spiral with 10 turns and a radius of 2.\",\n",
    "    \"Create a rectangular grid of 5 by 5 points with a spacing of 10 in the x and y directions.\",\n",
    "    \"Generate a sphere with a radius of 10 at the origin.\",\n",
    "    \"Create a series of 10 circles with radii increasing by 1 for each subsequent circle.\",\n",
    "    \"Generate a 3D grid of 5x5x5 spheres with a spacing of 10 in the x, y, and z directions.\",\n",
    "    \"Create a line from the origin to the point (10,10,10).\",\n",
    "    \"Generate a series of 10 squares with side lengths increasing by 2 for each subsequent square.\",\n",
    "    \"Create a cone with a base radius of 5 and a height of 10.\",\n",
    "    \"Generate a torus with a tube radius of 2 and a path radius of 5.\",\n",
    "    \"Create a triangular grid of 5 by 5 points with a spacing of 10 in the x and y directions.\",\n",
    "    \"Generate a series of 10 rectangles with lengths and widths increasing by 2 for each subsequent rectangle.\",\n",
    "    \"Create a pyramid with a base side length of 5 and a height of 10.\",\n",
    "    \"Generate a series of 10 lines with lengths increasing by 2 for each subsequent line.\",\n",
    "    \"Create a hexagonal grid of 5 by 5 points with a spacing of 10 in the x and y directions.\",\n",
    "    \"Generate a series of 10 hexagons with side lengths increasing by 1 for each subsequent hexagon.\",\n",
    "    \"Create a 3D grid of 5x5x5 cubes with a spacing of 10 in the x, y, and z directions. The size of the cubes should be determined by each cube's proximity to a random point on the grid such that at distance 0 the cube has dimensions 0 and at distance 1 the cube has dimensions 1.\",\n",
    "    \"Generate a series of 10 cylinders with radii increasing by 1 and heights increasing by 2 for each subsequent cylinder.\",\n",
    "    \"Create a series of 10 cones with base radii increasing by 1 and heights increasing by 2 for each subsequent cone.\",\n",
    "    \"Generate a series of 10 pyramids with base side lengths increasing by 1 and heights increasing by 2 for each subsequent pyramid.\",\n",
    "]"
   ]
  },
  {
   "cell_type": "code",
   "execution_count": null,
   "metadata": {},
   "outputs": [],
   "source": [
    "from pipeline.pipeline import run_pipeline\n",
    "\n",
    "for input in inputs:\n",
    "    run_pipeline(input)"
   ]
  }
 ],
 "metadata": {
  "kernelspec": {
   "display_name": ".venv",
   "language": "python",
   "name": "python3"
  },
  "language_info": {
   "codemirror_mode": {
    "name": "ipython",
    "version": 3
   },
   "file_extension": ".py",
   "mimetype": "text/x-python",
   "name": "python",
   "nbconvert_exporter": "python",
   "pygments_lexer": "ipython3",
   "version": "3.12.3"
  }
 },
 "nbformat": 4,
 "nbformat_minor": 2
}
