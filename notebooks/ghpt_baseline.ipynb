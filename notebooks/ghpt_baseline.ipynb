{
  "cells": [
    {
      "cell_type": "markdown",
      "metadata": {
        "colab_type": "text",
        "id": "view-in-github"
      },
      "source": [
        "<a href=\"https://colab.research.google.com/github/samgregson/GHPT-colab-experiments/blob/main/Grasshopper_testing.ipynb\" target=\"_parent\"><img src=\"https://colab.research.google.com/assets/colab-badge.svg\" alt=\"Open In Colab\"/></a>"
      ]
    },
    {
      "cell_type": "markdown",
      "metadata": {
        "id": "KS2KaXUa6ULz"
      },
      "source": [
        "# Setup\n",
        "install openai and setup API key\n",
        "\n",
        "This notebook works both in a Colab environment and on local machine\n",
        "\n",
        "Colab:\n",
        "- API key must be saved in Colab sectrets as OPENAI_API_KEY\n",
        "\n",
        "Local:\n",
        "- API key must be defined in the .env file (refer to example.env)"
      ]
    },
    {
      "cell_type": "code",
      "execution_count": 16,
      "metadata": {},
      "outputs": [
        {
          "data": {
            "text/plain": [
              "False"
            ]
          },
          "execution_count": 16,
          "metadata": {},
          "output_type": "execute_result"
        }
      ],
      "source": [
        "try:\n",
        "  import google.colab\n",
        "  IN_COLAB = True\n",
        "except:\n",
        "  IN_COLAB = False\n",
        "IN_COLAB"
      ]
    },
    {
      "cell_type": "code",
      "execution_count": 17,
      "metadata": {
        "id": "jy5pEkKl0OyR"
      },
      "outputs": [],
      "source": [
        "if IN_COLAB:\n",
        "    !pip install openai\n",
        "    !pip install requests\n",
        "\n",
        "if IN_COLAB:\n",
        "    import os\n",
        "    from google.colab import userdata\n",
        "    os.environ[\"OPENAI_API_KEY\"] = userdata.get(\"OPENAI_API_KEY\")"
      ]
    },
    {
      "cell_type": "markdown",
      "metadata": {},
      "source": [
        "### load files into Colab and install package\n",
        "\n",
        "NOTE: you may need to refresh your Colab files directory to see changes"
      ]
    },
    {
      "cell_type": "code",
      "execution_count": 18,
      "metadata": {},
      "outputs": [],
      "source": [
        "if IN_COLAB:\n",
        "    # remove the existing directory\n",
        "    import shutil\n",
        "    shutil.rmtree('/content/GHPT-experiments/', ignore_errors=True)\n",
        "    !git clone \"https://github.com/samgregson/GHPT-experiments\"\n",
        "    !pip install -e /content/GHPT-experiments/\n",
        "    # add the modules to the search path\n",
        "    import site\n",
        "    site.main()"
      ]
    },
    {
      "cell_type": "markdown",
      "metadata": {
        "id": "lCORn5u76b3n"
      },
      "source": [
        "# OpenAI"
      ]
    },
    {
      "cell_type": "code",
      "execution_count": 19,
      "metadata": {
        "id": "_KuOYMzj61v3"
      },
      "outputs": [],
      "source": [
        "from openai import OpenAI\n",
        "from langsmith.wrappers import wrap_openai\n",
        "\n",
        "client = OpenAI()\n",
        "\n",
        "# Wrap the OpenAI client with LangSmith\n",
        "client = wrap_openai(client)\n",
        "\n",
        "if not IN_COLAB:\n",
        "    from patch_openai.patch_openai import patch_openai\n",
        "    client = patch_openai(client)"
      ]
    },
    {
      "cell_type": "code",
      "execution_count": 28,
      "metadata": {
        "id": "EiYlQ5mIzBf3"
      },
      "outputs": [],
      "source": [
        "from langsmith import traceable\n",
        "\n",
        "# create the openai api call function\n",
        "@traceable\n",
        "def call_openai(prompt: str, system_prompt: str = \"\", model: str = \"gpt-3.5-turbo-1106\", temperature: float = 0):\n",
        "    if system_prompt == \"\":\n",
        "        messages=[\n",
        "            {\"role\": \"user\", \"content\": prompt}\n",
        "        ]\n",
        "    else:\n",
        "        messages=[\n",
        "            {\"role\": \"system\", \"content\": system_prompt},\n",
        "            {\"role\": \"user\", \"content\": prompt}\n",
        "        ]\n",
        "\n",
        "    completion = client.chat.completions.create(\n",
        "        model=model,\n",
        "        temperature=temperature,\n",
        "        messages=messages\n",
        "    )\n",
        "\n",
        "    return completion"
      ]
    },
    {
      "cell_type": "markdown",
      "metadata": {},
      "source": [
        "test connection"
      ]
    },
    {
      "cell_type": "code",
      "execution_count": 30,
      "metadata": {
        "colab": {
          "base_uri": "https://localhost:8080/"
        },
        "id": "B8HXy6lMA4dq",
        "outputId": "7ce53fd2-ea76-48c8-f018-597f36604dc0"
      },
      "outputs": [
        {
          "name": "stderr",
          "output_type": "stream",
          "text": [
            "Failed to get info from https://api.smith.langchain.com: SSLError(MaxRetryError(\"HTTPSConnectionPool(host='api.smith.langchain.com', port=443): Max retries exceeded with url: /info (Caused by SSLError(SSLCertVerificationError(1, '[SSL: CERTIFICATE_VERIFY_FAILED] certificate verify failed: unable to get local issuer certificate (_ssl.c:1000)')))\"))\n"
          ]
        },
        {
          "name": "stdout",
          "output_type": "stream",
          "text": [
            "This is a test.\n"
          ]
        },
        {
          "name": "stderr",
          "output_type": "stream",
          "text": [
            "Failed to batch ingest runs: LangSmithConnectionError('Connection error caused failure to POST https://api.smith.langchain.com/runs/batch  in LangSmith API. Please confirm your internet connection.. SSLError(MaxRetryError(\"HTTPSConnectionPool(host=\\'api.smith.langchain.com\\', port=443): Max retries exceeded with url: /runs/batch (Caused by SSLError(SSLCertVerificationError(1, \\'[SSL: CERTIFICATE_VERIFY_FAILED] certificate verify failed: unable to get local issuer certificate (_ssl.c:1000)\\')))\"))')\n",
            "Failed to batch ingest runs: LangSmithConnectionError('Connection error caused failure to POST https://api.smith.langchain.com/runs/batch  in LangSmith API. Please confirm your internet connection.. SSLError(MaxRetryError(\"HTTPSConnectionPool(host=\\'api.smith.langchain.com\\', port=443): Max retries exceeded with url: /runs/batch (Caused by SSLError(SSLCertVerificationError(1, \\'[SSL: CERTIFICATE_VERIFY_FAILED] certificate verify failed: unable to get local issuer certificate (_ssl.c:1000)\\')))\"))')\n"
          ]
        }
      ],
      "source": [
        "model: str = \"gpt-3.5-turbo-1106\"\n",
        "temperature: float = 0\n",
        "\n",
        "prompt=\"say this is a test\"\n",
        "system_prompt=\"\"\n",
        "\n",
        "completion = call_openai(prompt=prompt, system_prompt=system_prompt, model=model, temperature=temperature)\n",
        "result = completion.choices[0].message.content\n",
        "print(result)"
      ]
    },
    {
      "cell_type": "markdown",
      "metadata": {
        "id": "47XPmW1mPiTw"
      },
      "source": [
        "# GHPT"
      ]
    },
    {
      "cell_type": "markdown",
      "metadata": {
        "id": "Cb2mp36c73Yi"
      },
      "source": [
        "### Import prompts"
      ]
    },
    {
      "cell_type": "code",
      "execution_count": 22,
      "metadata": {},
      "outputs": [],
      "source": [
        "from prompts.generate_script import system_prompt, prompt_template\n",
        "\n",
        "# replace all { with {{ and } with }} to escape the curly braces\n",
        "prompt_template = prompt_template.replace(\"{\",\"{{\").replace(\"}\",\"}}\").replace(\"{{QUESTION}}\",\"{QUESTION}\")"
      ]
    },
    {
      "cell_type": "code",
      "execution_count": 23,
      "metadata": {},
      "outputs": [
        {
          "data": {
            "text/plain": [
              "'\\n// Question : How do I add two numbers inside of Grasshopper?\\n// Reasoning: To add two numbers we need to Add. There is an Addition component that performs this function. We need to create two numbers the user can edit, we can use the Number Slider for both numbers. And then we can Connections all of the components together\\n// JSON:\\n{\\n\\t\"Advice\": \"Make sure to set the number sliders to the correct value\",\\n\\t\"Additions\": [\\n\\t\\t{\\n\\t\\t\\t\"Name\": \"Number Slider\",\\n\\t\\t\\t\"Id\": 1,\\n\\t\\t\\t\"value\": \"0..25..100\"\\n\\t\\t},\\n\\t\\t{\\n\\t\\t\\t\"Name\": \"Number Slider\",\\n\\t\\t\\t\"Id\": 2,\\n\\t\\t\\t\"value\": \"-50..25..100\"\\n\\t\\t},\\n\\t\\t{\\n\\t\\t\\t\"Name\": \"Addition\",\\n\\t\\t\\t\"Id\": 3\\n\\t\\t}\\n\\t],\\n\\t\"Connections\": [\\n\\t\\t{\\n\\t\\t\\t\"To\": {\\n\\t\\t\\t\\t\"Id\": 3,\\n\\t\\t\\t\\t\"ParameterName\": \"A\"\\n\\t\\t\\t},\\n\\t\\t\\t\"From\": {\\n\\t\\t\\t\\t\"Id\": 1,\\n\\t\\t\\t\\t\"ParameterName\": \"number\"\\n\\t\\t\\t}\\n\\t\\t},\\n\\t\\t{\\n\\t\\t\\t\"To\": {\\n\\t\\t\\t\\t\"Id\": 3,\\n\\t\\t\\t\\t\"ParameterName\": \"B\"\\n\\t\\t\\t},\\n\\t\\t\\t\"From\": {\\n\\t\\t\\t\\t\"Id\": 2,\\n\\t\\t\\t\\t\"ParameterName\": \"number\"\\n\\t\\t\\t}\\n\\t\\t}\\n\\t]\\n}\\n\\n// Question: How do I create a cup shape in grasshopper\\n// Reasoning: To create a cup shape in Grasshopper, we\"ll first create a circle using a \"Circle CNR\" component, which will act as the base of the cup. Then, we will use a \"Move\" component to move the base circle vertically to create the upper rim of the cup. To create the body of the cup, we\"ll loft these two circles using a \"Loft\" component.\\n// JSON:\\n{\\n\\t\"Advice\": \"Remember, to properly define the cup\\\\\"s dimensions using the number slider\",\\n\\t\"Additions\": [\\n\\t\\t{\\n\\t\\t\\t\"Name\": \"Circle CNR\",\\n\\t\\t\\t\"Id\": 1\\n\\t\\t},\\n\\t\\t{\\n\\t\\t\\t\"Name\": \"Move\",\\n\\t\\t\\t\"Id\": 2\\n\\t\\t},\\n\\t\\t{\\n\\t\\t\\t\"Name\": \"Loft\",\\n\\t\\t\\t\"Id\": 3\\n\\t\\t}\\n\\t],\\n\\t\"Connections\": [\\n\\t\\t{\\n\\t\\t\\t\"To\": {\\n\\t\\t\\t\\t\"Id\": 2,\\n\\t\\t\\t\\t\"ParameterName\": \"Geometry\"\\n\\t\\t\\t},\\n\\t\\t\\t\"From\": {\\n\\t\\t\\t\\t\"Id\": 1,\\n\\t\\t\\t\\t\"ParameterName\": \"Circle\"\\n\\t\\t\\t}\\n\\t\\t},\\n\\t\\t{\\n\\t\\t\\t\"To\": {\\n\\t\\t\\t\\t\"Id\": 3,\\n\\t\\t\\t\\t\"ParameterName\": \"Curves\"\\n\\t\\t\\t},\\n\\t\\t\\t\"From\": {\\n\\t\\t\\t\\t\"Id\": 1,\\n\\t\\t\\t\\t\"ParameterName\": \"Circle\"\\n\\t\\t\\t}\\n\\t\\t},\\n\\t\\t{\\n\\t\\t\\t\"To\": {\\n\\t\\t\\t\\t\"Id\": 3,\\n\\t\\t\\t\\t\"ParameterName\": \"Curves\"\\n\\t\\t\\t},\\n\\t\\t\\t\"From\": {\\n\\t\\t\\t\\t\"Id\": 2,\\n\\t\\t\\t\\t\"ParameterName\": \"Geometry\"\\n\\t\\t\\t}\\n\\t\\t}\\n\\t]\\n}\\n\\n// Question: How do I create a twisty skyscraper?\\n// Reasoning: We can create the \"twist\" using the twist component, so lets extrude a rectangle and twist it!\\n// JSON:\\n{\\n\\t\"Advice\": \"Make sure to use reasonable inputs or the skyscraper will look weird\",\\n\\t\"Additions\": [\\n\\t\\t{\\n\\t\\t\\t\"Name\": \"Rectangle\",\\n\\t\\t\\t\"Id\": 1\\n\\t\\t},\\n\\t\\t{\\n\\t\\t\\t\"Name\": \"Number Slider\",\\n\\t\\t\\t\"Id\": 2,\\n\\t\\t\\t\"Value\": \"0..50..100\"\\n\\t\\t},\\n\\t\\t{\\n\\t\\t\\t\"Name\": \"Unit Z\",\\n\\t\\t\\t\"Id\": 3\\n\\t\\t},\\n\\t\\t{\\n\\t\\t\\t\"Name\": \"Extrusion\",\\n\\t\\t\\t\"Id\": 4\\n\\t\\t},\\n\\t\\t{\\n\\t\\t\\t\"Name\": \"Number Slider\",\\n\\t\\t\\t\"Id\": 5,\\n\\t\\t\\t\"Value\": \"0..90..360\"\\n\\t\\t},\\n\\t\\t{\\n\\t\\t\\t\"Name\": \"Line\",\\n\\t\\t\\t\"Id\": 6\\n\\t\\t},\\n\\t\\t{\\n\\t\\t\\t\"Name\": \"Point\",\\n\\t\\t\\t\"Id\": 7,\\n\\t\\t\\t\"value\": \"{0,0,0}\"\\n\\t\\t},\\n\\t\\t{\\n\\t\\t\\t\"Name\": \"Point\",\\n\\t\\t\\t\"Id\": 8,\\n\\t\\t\\t\"value\": \"{0,0,250}\"\\n\\t\\t},\\n\\t\\t{\\n\\t\\t\\t\"Name\": \"Twist\",\\n\\t\\t\\t\"Id\": 9\\n\\t\\t},\\n\\t\\t{\\n\\t\\t\\t\"Name\": \"Solid Union\",\\n\\t\\t\\t\"Id\": 10\\n\\t\\t},\\n\\t\\t{\\n\\t\\t\\t\"Name\": \"Brep Join\",\\n\\t\\t\\t\"Id\": 11\\n\\t\\t}\\n\\t],\\n\\t\"Connections\": [\\n\\t\\t{\\n\\t\\t\\t\"To\": {\\n\\t\\t\\t\\t\"Id\": 4,\\n\\t\\t\\t\\t\"ParameterName\": \"Base\"\\n\\t\\t\\t},\\n\\t\\t\\t\"From\": {\\n\\t\\t\\t\\t\"Id\": 1,\\n\\t\\t\\t\\t\"ParameterName\": \"Rectangle\"\\n\\t\\t\\t}\\n\\t\\t},\\n\\t\\t{\\n\\t\\t\\t\"To\": {\\n\\t\\t\\t\\t\"Id\": 3,\\n\\t\\t\\t\\t\"ParameterName\": \"Factor\"\\n\\t\\t\\t},\\n\\t\\t\\t\"From\": {\\n\\t\\t\\t\\t\"Id\": 2,\\n\\t\\t\\t\\t\"ParameterName\": \"Number\"\\n\\t\\t\\t}\\n\\t\\t},\\n\\t\\t{\\n\\t\\t\\t\"To\": {\\n\\t\\t\\t\\t\"Id\": 9,\\n\\t\\t\\t\\t\"ParameterName\": \"Angle\"\\n\\t\\t\\t},\\n\\t\\t\\t\"From\": {\\n\\t\\t\\t\\t\"Id\": 5,\\n\\t\\t\\t\\t\"ParameterName\": \"Number\"\\n\\t\\t\\t}\\n\\t\\t},\\n\\t\\t{\\n\\t\\t\\t\"To\": {\\n\\t\\t\\t\\t\"Id\": 4,\\n\\t\\t\\t\\t\"ParameterName\": \"Direction\"\\n\\t\\t\\t},\\n\\t\\t\\t\"From\": {\\n\\t\\t\\t\\t\"Id\": 3,\\n\\t\\t\\t\\t\"ParameterName\": \"Unit vector\"\\n\\t\\t\\t}\\n\\t\\t},\\n\\t\\t{\\n\\t\\t\\t\"To\": {\\n\\t\\t\\t\\t\"Id\": 9,\\n\\t\\t\\t\\t\"ParameterName\": \"Geometry\"\\n\\t\\t\\t},\\n\\t\\t\\t\"From\": {\\n\\t\\t\\t\\t\"Id\": 4,\\n\\t\\t\\t\\t\"ParameterName\": \"Extrusion\"\\n\\t\\t\\t}\\n\\t\\t},\\n\\t\\t{\\n\\t\\t\\t\"To\": {\\n\\t\\t\\t\\t\"Id\": 6,\\n\\t\\t\\t\\t\"ParameterName\": \"Start Point\"\\n\\t\\t\\t},\\n\\t\\t\\t\"From\": {\\n\\t\\t\\t\\t\"Id\": 7,\\n\\t\\t\\t\\t\"ParameterName\": \"Point\"\\n\\t\\t\\t}\\n\\t\\t},\\n\\t\\t{\\n\\t\\t\\t\"To\": {\\n\\t\\t\\t\\t\"Id\": 6,\\n\\t\\t\\t\\t\"ParameterName\": \"End Point\"\\n\\t\\t\\t},\\n\\t\\t\\t\"From\": {\\n\\t\\t\\t\\t\"Id\": 8,\\n\\t\\t\\t\\t\"ParameterName\": \"Point\"\\n\\t\\t\\t}\\n\\t\\t},\\n\\t\\t{\\n\\t\\t\\t\"To\": {\\n\\t\\t\\t\\t\"Id\": 10,\\n\\t\\t\\t\\t\"ParameterName\": \"Breps\"\\n\\t\\t\\t},\\n\\t\\t\\t\"From\": {\\n\\t\\t\\t\\t\"Id\": 9,\\n\\t\\t\\t\\t\"ParameterName\": \"Geometry\"\\n\\t\\t\\t}\\n\\t\\t},\\n\\t\\t{\\n\\t\\t\\t\"To\": {\\n\\t\\t\\t\\t\"Id\": 11,\\n\\t\\t\\t\\t\"ParameterName\": \"Breps\"\\n\\t\\t\\t},\\n\\t\\t\\t\"From\": {\\n\\t\\t\\t\\t\"Id\": 10,\\n\\t\\t\\t\\t\"ParameterName\": \"Result\"\\n\\t\\t\\t}\\n\\t\\t},\\n\\t\\t{\\n            \"To\": {\\n                \"Id\": 9,\\n                \"ParameterName\": \"Axis\"\\n                },\\n            \"From\": {\\n                \"Id\": 6,\\n                \"ParameterName\": \"Line\"\\n            }\\n\\t\\t}\\n\\t]\\n}\\n\\n// Question: create a sphere\\n// Reasoning:\\n'"
            ]
          },
          "execution_count": 23,
          "metadata": {},
          "output_type": "execute_result"
        }
      ],
      "source": [
        "# example use:\n",
        "prompt_template.format(QUESTION=\"create a sphere\")"
      ]
    },
    {
      "cell_type": "code",
      "execution_count": 24,
      "metadata": {},
      "outputs": [
        {
          "data": {
            "text/plain": [
              "\"\\nYou are a Grasshopper Expert and are going to help create Grasshopper Definitions.\\nKeep the answers short and concise.\\nMake sure you create and connect a component for every non-optional input\\nIf you're not sure about the answer, but think there's additional information that could help you, please ask for that information.\\n\\nAlways use the given format, avoid any devitation.\\n\""
            ]
          },
          "execution_count": 24,
          "metadata": {},
          "output_type": "execute_result"
        }
      ],
      "source": [
        "system_prompt"
      ]
    },
    {
      "cell_type": "markdown",
      "metadata": {
        "id": "fBGAjqv1780t"
      },
      "source": [
        "## Baseline Call"
      ]
    },
    {
      "cell_type": "code",
      "execution_count": 25,
      "metadata": {
        "colab": {
          "base_uri": "https://localhost:8080/"
        },
        "id": "wht7UJWg0jca",
        "outputId": "2cba7402-be8b-45b8-86cc-932bb7c13bd4"
      },
      "outputs": [
        {
          "name": "stdout",
          "output_type": "stream",
          "text": [
            "I'm sorry, I don't have enough information to provide a Grasshopper definition for a sphere. Could you please provide more details or context?\n"
          ]
        }
      ],
      "source": [
        "# model: str = \"gpt-3.5-turbo-1106\"\n",
        "model: str = \"gpt-3.5-turbo\"\n",
        "# model = \"gpt-4\"\n",
        "temperature: float = 0\n",
        "\n",
        "prompt=system_prompt + prompt_template.format(QUESTION=\"sphere\")\n",
        "\n",
        "completion = call_openai(prompt=prompt, system_prompt=\"\", model=model, temperature=temperature)\n",
        "result = completion.choices[0].message\n",
        "print(result.content)"
      ]
    }
  ],
  "metadata": {
    "colab": {
      "authorship_tag": "ABX9TyMfW6HNeJ1iT+VDWPPQb17l",
      "collapsed_sections": [
        "KS2KaXUa6ULz"
      ],
      "include_colab_link": true,
      "provenance": []
    },
    "kernelspec": {
      "display_name": "Python 3",
      "name": "python3"
    },
    "language_info": {
      "codemirror_mode": {
        "name": "ipython",
        "version": 3
      },
      "file_extension": ".py",
      "mimetype": "text/x-python",
      "name": "python",
      "nbconvert_exporter": "python",
      "pygments_lexer": "ipython3",
      "version": "3.12.3"
    }
  },
  "nbformat": 4,
  "nbformat_minor": 0
}
